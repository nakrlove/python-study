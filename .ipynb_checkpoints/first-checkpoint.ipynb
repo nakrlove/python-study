{
 "cells": [
  {
   "cell_type": "markdown",
   "id": "35273628-e1d6-43e5-b4f3-3aeeae08bffa",
   "metadata": {},
   "source": [
    "# 자료형\n",
    "## 숫자형\n",
    "- 정수 : integer\n",
    "- 소수 : float 부동소수점: floating point"
   ]
  },
  {
   "cell_type": "code",
   "execution_count": 4,
   "id": "9594c30d-027a-49bb-857b-7d5c3ffdd71e",
   "metadata": {},
   "outputs": [
    {
     "name": "stdout",
     "output_type": "stream",
     "text": [
      "10\n",
      "TEST\n"
     ]
    }
   ],
   "source": [
    "a = 10\n",
    "print(a)\n",
    "a = \"TEST\"\n",
    "print(a)"
   ]
  },
  {
   "cell_type": "code",
   "execution_count": null,
   "id": "505b7c43-2fc3-46bb-b439-4f63d300d78e",
   "metadata": {},
   "outputs": [],
   "source": []
  },
  {
   "cell_type": "code",
   "execution_count": null,
   "id": "9cfe8f19-d7cc-4e22-afe8-d8d73a234f97",
   "metadata": {},
   "outputs": [],
   "source": []
  }
 ],
 "metadata": {
  "kernelspec": {
   "display_name": "Python 3 (ipykernel)",
   "language": "python",
   "name": "python3"
  },
  "language_info": {
   "codemirror_mode": {
    "name": "ipython",
    "version": 3
   },
   "file_extension": ".py",
   "mimetype": "text/x-python",
   "name": "python",
   "nbconvert_exporter": "python",
   "pygments_lexer": "ipython3",
   "version": "3.13.3"
  }
 },
 "nbformat": 4,
 "nbformat_minor": 5
}
