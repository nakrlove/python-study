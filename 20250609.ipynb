{
 "cells": [
  {
   "cell_type": "code",
   "execution_count": 8,
   "id": "c79de5ee-2741-43f3-a5d5-3143e566890b",
   "metadata": {},
   "outputs": [
    {
     "name": "stdout",
     "output_type": "stream",
     "text": [
      "78.5\n"
     ]
    }
   ],
   "source": [
    "PI = 3.14   # 상수\n",
    "r = 5       # 변수\n",
    "print(PI*r*r)"
   ]
  },
  {
   "cell_type": "code",
   "execution_count": 9,
   "id": "e9c71573-491d-4e62-9a46-6c12e8eb93e5",
   "metadata": {},
   "outputs": [],
   "source": [
    "def area(r):\n",
    "    print(PI * r*r)"
   ]
  },
  {
   "cell_type": "code",
   "execution_count": 10,
   "id": "c4273bc5-7f9f-4aba-98e7-f643f7c8c507",
   "metadata": {},
   "outputs": [
    {
     "name": "stdout",
     "output_type": "stream",
     "text": [
      "78.5\n"
     ]
    }
   ],
   "source": [
    "area(5)"
   ]
  },
  {
   "cell_type": "markdown",
   "id": "dc2b5c45-0169-4b0b-94ec-d160a0a77215",
   "metadata": {},
   "source": [
    "### input()\n",
    "- 입력값을 항상 문자열로 받는다\n",
    "- 숫자형으로 바꾸려면 바로 int()로 감싼다."
   ]
  },
  {
   "cell_type": "code",
   "execution_count": 11,
   "id": "cb225a72-5353-490e-8f7d-3d9c077ddc2c",
   "metadata": {},
   "outputs": [
    {
     "name": "stdout",
     "output_type": "stream",
     "text": [
      "Hello\n"
     ]
    }
   ],
   "source": [
    "print(\"Hello\")"
   ]
  },
  {
   "cell_type": "code",
   "execution_count": 12,
   "id": "8d82ff32-d382-4944-aa28-7de040ae32af",
   "metadata": {},
   "outputs": [
    {
     "name": "stdin",
     "output_type": "stream",
     "text": [
      "입력해 주세요: ㄴㄴㄴㄴ\n"
     ]
    },
    {
     "data": {
      "text/plain": [
       "'ㄴㄴㄴㄴ'"
      ]
     },
     "execution_count": 12,
     "metadata": {},
     "output_type": "execute_result"
    }
   ],
   "source": [
    "input(\"입력해 주세요:\")"
   ]
  },
  {
   "cell_type": "code",
   "execution_count": 13,
   "id": "d1cfc0e9-0f47-4d6e-8b2a-8a019ea5abd9",
   "metadata": {},
   "outputs": [
    {
     "name": "stdin",
     "output_type": "stream",
     "text": [
      " sds\n"
     ]
    },
    {
     "data": {
      "text/plain": [
       "'sds'"
      ]
     },
     "execution_count": 13,
     "metadata": {},
     "output_type": "execute_result"
    }
   ],
   "source": [
    "input()"
   ]
  },
  {
   "cell_type": "code",
   "execution_count": 14,
   "id": "ebe8c8f8-3320-4d26-8446-244064a52579",
   "metadata": {},
   "outputs": [
    {
     "name": "stdin",
     "output_type": "stream",
     "text": [
      "나이를 입력해 주세요 23\n"
     ]
    }
   ],
   "source": [
    "age = input(\"나이를 입력해 주세요\")"
   ]
  },
  {
   "cell_type": "code",
   "execution_count": 15,
   "id": "38f43045-d36e-4371-88e7-743d25a82dcb",
   "metadata": {},
   "outputs": [
    {
     "data": {
      "text/plain": [
       "'23'"
      ]
     },
     "execution_count": 15,
     "metadata": {},
     "output_type": "execute_result"
    }
   ],
   "source": [
    "age"
   ]
  },
  {
   "cell_type": "code",
   "execution_count": 16,
   "id": "f92651d8-d314-4e00-b2c1-1adfe3f54af9",
   "metadata": {},
   "outputs": [
    {
     "data": {
      "text/plain": [
       "'23세입니다'"
      ]
     },
     "execution_count": 16,
     "metadata": {},
     "output_type": "execute_result"
    }
   ],
   "source": [
    "age + \"세입니다\""
   ]
  },
  {
   "cell_type": "code",
   "execution_count": 18,
   "id": "9fce4a4e-b0b2-4343-88e5-5153acf7ffbd",
   "metadata": {},
   "outputs": [
    {
     "data": {
      "text/plain": [
       "43"
      ]
     },
     "execution_count": 18,
     "metadata": {},
     "output_type": "execute_result"
    }
   ],
   "source": [
    "int(age) + 20"
   ]
  },
  {
   "cell_type": "code",
   "execution_count": 20,
   "id": "bc80364f-8979-43ac-b845-9b525bf233a1",
   "metadata": {},
   "outputs": [
    {
     "data": {
      "text/plain": [
       "'20'"
      ]
     },
     "execution_count": 20,
     "metadata": {},
     "output_type": "execute_result"
    }
   ],
   "source": [
    "# \n",
    "str(20)"
   ]
  },
  {
   "cell_type": "code",
   "execution_count": 26,
   "id": "b9662f8f-3c9f-4c1b-8631-6acb9fa43981",
   "metadata": {},
   "outputs": [
    {
     "name": "stdin",
     "output_type": "stream",
     "text": [
      "당신의 나이는? 10\n"
     ]
    }
   ],
   "source": [
    "#age = input(\"당신의 나이는?\")\n",
    "age = int(input(\"당신의 나이는?\"))"
   ]
  },
  {
   "cell_type": "code",
   "execution_count": 27,
   "id": "d2c2a015-24c8-4ec6-ae91-adee934c2bc3",
   "metadata": {},
   "outputs": [
    {
     "data": {
      "text/plain": [
       "20"
      ]
     },
     "execution_count": 27,
     "metadata": {},
     "output_type": "execute_result"
    }
   ],
   "source": [
    "age + 10"
   ]
  },
  {
   "cell_type": "code",
   "execution_count": 28,
   "id": "403d178b-67a1-40c5-8cfd-9cb1e20ed60d",
   "metadata": {},
   "outputs": [
    {
     "data": {
      "text/plain": [
       "int"
      ]
     },
     "execution_count": 28,
     "metadata": {},
     "output_type": "execute_result"
    }
   ],
   "source": [
    "type(age)"
   ]
  },
  {
   "cell_type": "code",
   "execution_count": null,
   "id": "6d71cd29-11fb-4581-8d90-27a3cf42833e",
   "metadata": {},
   "outputs": [],
   "source": [
    "input 함수를 사용하여 \n",
    "입력받은 수 (1234567)의 5배를 출력해 봅시다."
   ]
  },
  {
   "cell_type": "code",
   "execution_count": 29,
   "id": "e6c82ed3-63ee-4554-a542-ee9f59368f3f",
   "metadata": {},
   "outputs": [
    {
     "name": "stdin",
     "output_type": "stream",
     "text": [
      " 1234567\n"
     ]
    }
   ],
   "source": [
    "val = (int(input()) * 5)"
   ]
  },
  {
   "cell_type": "code",
   "execution_count": 30,
   "id": "cae6468c-c802-40e3-afaf-df28e3554c1f",
   "metadata": {},
   "outputs": [
    {
     "name": "stdout",
     "output_type": "stream",
     "text": [
      "6172835\n"
     ]
    }
   ],
   "source": [
    "print(val)"
   ]
  },
  {
   "cell_type": "code",
   "execution_count": 31,
   "id": "025af732-da6f-42d2-932f-cac594397e7e",
   "metadata": {},
   "outputs": [
    {
     "data": {
      "text/plain": [
       "'30'"
      ]
     },
     "execution_count": 31,
     "metadata": {},
     "output_type": "execute_result"
    }
   ],
   "source": [
    "# \"10\"\n",
    "# \"20\"\n",
    "# \"30\""
   ]
  },
  {
   "cell_type": "code",
   "execution_count": 33,
   "id": "de3414b3-0f7b-4935-b05a-1aea7fec346a",
   "metadata": {},
   "outputs": [
    {
     "data": {
      "text/plain": [
       "10.0"
      ]
     },
     "execution_count": 33,
     "metadata": {},
     "output_type": "execute_result"
    }
   ],
   "source": [
    "\"10\"\n",
    "int(\"10\")\n",
    "float(\"10\")"
   ]
  },
  {
   "cell_type": "markdown",
   "id": "66f15c60-5c96-4fe4-85ec-c956a54573a6",
   "metadata": {},
   "source": [
    "### 문자형"
   ]
  },
  {
   "cell_type": "code",
   "execution_count": 34,
   "id": "60cb5c0e-78b0-476f-8139-2f82b7563d52",
   "metadata": {},
   "outputs": [
    {
     "name": "stdout",
     "output_type": "stream",
     "text": [
      " \"안녕하세요\"라고 말했습니다 \n"
     ]
    }
   ],
   "source": [
    "print(' \"안녕하세요\"라고 말했습니다 ')"
   ]
  },
  {
   "cell_type": "code",
   "execution_count": 35,
   "id": "ec9eb898-d62a-465d-b622-0e63f7a5e83f",
   "metadata": {},
   "outputs": [
    {
     "name": "stdout",
     "output_type": "stream",
     "text": [
      "안녕하세요 좋은 아침입니다\n"
     ]
    }
   ],
   "source": [
    "print(\"안녕하세요 좋은 아침입니다\")"
   ]
  },
  {
   "cell_type": "code",
   "execution_count": 41,
   "id": "54196f6b-faf6-4926-b02d-086b47aab300",
   "metadata": {},
   "outputs": [
    {
     "name": "stdout",
     "output_type": "stream",
     "text": [
      "안녕하세요\n",
      "좋은 아침입니다\n",
      "안녕하세요\t좋은 아침입니다\n"
     ]
    }
   ],
   "source": [
    "print(\"안녕하세요\\n좋은 아침입니다\")\n",
    "print(\"안녕하세요\\t좋은 아침입니다\")"
   ]
  },
  {
   "cell_type": "code",
   "execution_count": 44,
   "id": "565e68fb-fd97-4746-91b1-b26103823e49",
   "metadata": {},
   "outputs": [
    {
     "name": "stdout",
     "output_type": "stream",
     "text": [
      "안녕하세요\" 좋은 아침입니다\n"
     ]
    }
   ],
   "source": [
    "print(\"안녕하세요\\\" 좋은 아침입니다\")"
   ]
  },
  {
   "cell_type": "code",
   "execution_count": 45,
   "id": "8a68b0c4-fe6d-4730-9832-8f940ba55a79",
   "metadata": {},
   "outputs": [
    {
     "name": "stdout",
     "output_type": "stream",
     "text": [
      "안녕하세요\n",
      "좋은아침입니다.\n"
     ]
    }
   ],
   "source": [
    "print(\"\"\"안녕하세요\n",
    "좋은아침입니다.\"\"\")"
   ]
  },
  {
   "cell_type": "code",
   "execution_count": 55,
   "id": "bb546d7c-1745-4ff3-9aac-31acf9248d2e",
   "metadata": {},
   "outputs": [
    {
     "data": {
      "text/plain": [
       "'좋은 아침입니다.'"
      ]
     },
     "execution_count": 55,
     "metadata": {},
     "output_type": "execute_result"
    }
   ],
   "source": [
    "# 문자열의  + - x /\n",
    "a = \"안녕하세요\"\n",
    "b = \"좋은 아침입니다.\"\n",
    "a\n",
    "b"
   ]
  },
  {
   "cell_type": "code",
   "execution_count": 50,
   "id": "95527135-a51a-4be6-99bd-d7a2227ee0c5",
   "metadata": {},
   "outputs": [
    {
     "data": {
      "text/plain": [
       "'안녕하세요좋은 아침입니다.'"
      ]
     },
     "execution_count": 50,
     "metadata": {},
     "output_type": "execute_result"
    }
   ],
   "source": [
    "a + b # concatenate"
   ]
  },
  {
   "cell_type": "code",
   "execution_count": 54,
   "id": "6486c783-dcf2-4d8f-bda5-36602a90d8b6",
   "metadata": {},
   "outputs": [
    {
     "ename": "TypeError",
     "evalue": "unsupported operand type(s) for /: 'str' and 'str'",
     "output_type": "error",
     "traceback": [
      "\u001b[31m---------------------------------------------------------------------------\u001b[39m",
      "\u001b[31mTypeError\u001b[39m                                 Traceback (most recent call last)",
      "\u001b[36mCell\u001b[39m\u001b[36m \u001b[39m\u001b[32mIn[54]\u001b[39m\u001b[32m, line 3\u001b[39m\n\u001b[32m      1\u001b[39m \u001b[38;5;66;03m#a-b\u001b[39;00m\n\u001b[32m      2\u001b[39m \u001b[38;5;66;03m#a*b\u001b[39;00m\n\u001b[32m----> \u001b[39m\u001b[32m3\u001b[39m \u001b[43ma\u001b[49m\u001b[43m/\u001b[49m\u001b[43mb\u001b[49m\n",
      "\u001b[31mTypeError\u001b[39m: unsupported operand type(s) for /: 'str' and 'str'"
     ]
    }
   ],
   "source": [
    "#a-b\n",
    "#a*b\n",
    "a/b"
   ]
  },
  {
   "cell_type": "code",
   "execution_count": 57,
   "id": "22e54dfc-69c1-45ef-8203-37406eb217a8",
   "metadata": {},
   "outputs": [
    {
     "data": {
      "text/plain": [
       "'안녕하세요안녕하세요안녕하세요안녕하세요안녕하세요안녕하세요안녕하세요안녕하세요안녕하세요안녕하세요'"
      ]
     },
     "execution_count": 57,
     "metadata": {},
     "output_type": "execute_result"
    }
   ],
   "source": [
    "a*10"
   ]
  },
  {
   "cell_type": "code",
   "execution_count": 58,
   "id": "e30e281e-0bf2-4f0d-a2f8-71c356245097",
   "metadata": {},
   "outputs": [
    {
     "data": {
      "text/plain": [
       "'------------------------------'"
      ]
     },
     "execution_count": 58,
     "metadata": {},
     "output_type": "execute_result"
    }
   ],
   "source": [
    "\"-\"*30"
   ]
  },
  {
   "cell_type": "markdown",
   "id": "9858094d-7da6-45f1-8e51-0601701d3936",
   "metadata": {},
   "source": [
    "### 하나씩 지정하기 - indexing"
   ]
  },
  {
   "cell_type": "code",
   "execution_count": 30,
   "id": "f56a6597-9e14-41ea-8b3a-2495c96c4b3e",
   "metadata": {},
   "outputs": [
    {
     "name": "stdout",
     "output_type": "stream",
     "text": [
      "5\n",
      "12\n",
      "H\n",
      "H\n",
      "H e\n",
      "m o r n i n g\n",
      "\n"
     ]
    }
   ],
   "source": [
    "a = \"Hello\"\n",
    "b = \"Good morning\"\n",
    "print(len(a))  # length \n",
    "print(len(b))\n",
    "print(a[0])\n",
    "print(a[-5])\n",
    "print(a[0],a[1])\n",
    "\n",
    "print(b[-7],b[-6],b[-5],b[-4],b[-3],b[-2],b[-1])\n",
    "\n",
    "print(b[-7:-0])\n"
   ]
  },
  {
   "cell_type": "markdown",
   "id": "01d80954-7187-4526-bb2e-6b5f588a1c2d",
   "metadata": {},
   "source": [
    "### 여러개 지정하기 - slicing"
   ]
  },
  {
   "cell_type": "code",
   "execution_count": 36,
   "id": "9f626449-717a-4812-a885-35d0ec049d97",
   "metadata": {},
   "outputs": [
    {
     "data": {
      "text/plain": [
       "'He'"
      ]
     },
     "execution_count": 36,
     "metadata": {},
     "output_type": "execute_result"
    }
   ],
   "source": [
    "a[0:2]\n",
    "a[:2]"
   ]
  },
  {
   "cell_type": "code",
   "execution_count": 33,
   "id": "2cdbfbfe-add1-46be-bbcb-0e8cb055e6c3",
   "metadata": {},
   "outputs": [
    {
     "data": {
      "text/plain": [
       "'ll'"
      ]
     },
     "execution_count": 33,
     "metadata": {},
     "output_type": "execute_result"
    }
   ],
   "source": [
    "a[2:4]"
   ]
  },
  {
   "cell_type": "code",
   "execution_count": 35,
   "id": "d94f1a78-5be5-425b-bbbd-0a5cafd2cddf",
   "metadata": {},
   "outputs": [
    {
     "data": {
      "text/plain": [
       "'llo'"
      ]
     },
     "execution_count": 35,
     "metadata": {},
     "output_type": "execute_result"
    }
   ],
   "source": [
    "a[2:5]\n",
    "a[2:6]\n",
    "a[2:]"
   ]
  },
  {
   "cell_type": "code",
   "execution_count": 37,
   "id": "ab15bac1-776a-4487-9d8e-e1144d06c714",
   "metadata": {},
   "outputs": [
    {
     "data": {
      "text/plain": [
       "'Hello'"
      ]
     },
     "execution_count": 37,
     "metadata": {},
     "output_type": "execute_result"
    }
   ],
   "source": [
    "a[ : ]"
   ]
  },
  {
   "cell_type": "code",
   "execution_count": 38,
   "id": "7bae4603-ee45-49b5-93ed-07fa73633e4b",
   "metadata": {},
   "outputs": [
    {
     "data": {
      "text/plain": [
       "'Good morning'"
      ]
     },
     "execution_count": 38,
     "metadata": {},
     "output_type": "execute_result"
    }
   ],
   "source": [
    "b"
   ]
  },
  {
   "cell_type": "code",
   "execution_count": 39,
   "id": "edb4b5b0-17e0-403b-a87e-15b6c6977958",
   "metadata": {},
   "outputs": [
    {
     "data": {
      "text/plain": [
       "'Good'"
      ]
     },
     "execution_count": 39,
     "metadata": {},
     "output_type": "execute_result"
    }
   ],
   "source": [
    "b[:4]"
   ]
  },
  {
   "cell_type": "code",
   "execution_count": 41,
   "id": "7e3ba141-f743-4756-8675-f783ef177d1d",
   "metadata": {},
   "outputs": [
    {
     "data": {
      "text/plain": [
       "'morning'"
      ]
     },
     "execution_count": 41,
     "metadata": {},
     "output_type": "execute_result"
    }
   ],
   "source": [
    "b[5:]"
   ]
  },
  {
   "cell_type": "code",
   "execution_count": 42,
   "id": "1f773d8d-b9bc-4ee3-a537-3111a34a47e7",
   "metadata": {},
   "outputs": [
    {
     "data": {
      "text/plain": [
       "'20250609sine'"
      ]
     },
     "execution_count": 42,
     "metadata": {},
     "output_type": "execute_result"
    }
   ],
   "source": [
    "a = \"20250609sine\"\n",
    "a"
   ]
  },
  {
   "cell_type": "code",
   "execution_count": 48,
   "id": "6774f248-73d3-4425-9b68-2f55649289c9",
   "metadata": {},
   "outputs": [
    {
     "data": {
      "text/plain": [
       "'sine'"
      ]
     },
     "execution_count": 48,
     "metadata": {},
     "output_type": "execute_result"
    }
   ],
   "source": [
    "print(a[:4])\n",
    "print(a[4:8])\n",
    "print(a[8:])"
   ]
  },
  {
   "cell_type": "code",
   "execution_count": null,
   "id": "b0de4898-07bc-477e-829a-99518f709420",
   "metadata": {},
   "outputs": [],
   "source": []
  },
  {
   "cell_type": "markdown",
   "id": "9958ed8f-2b67-4a28-a87c-d227b04a33ec",
   "metadata": {},
   "source": [
    "### 출력하기"
   ]
  },
  {
   "cell_type": "code",
   "execution_count": 70,
   "id": "db29fad4-f998-4d1d-8108-47a98b9f19a8",
   "metadata": {},
   "outputs": [
    {
     "name": "stdout",
     "output_type": "stream",
     "text": [
      " I ate 3 apples. So I sicked three days\n",
      " I ate 3 apples. So I sicked three days\n",
      " I ate 3 apples. So I sicked three days. Never eat 3 apples\n",
      " I ate 3 apples. So I sicked three days\n",
      " I ate 3 apples. So I sicked three days\n"
     ]
    }
   ],
   "source": [
    "number = 3\n",
    "day = \"three\"\n",
    "\n",
    "# 전통적인 방식\n",
    "print(\" I ate %d apples. So I sicked %s days\"%(number,day))\n",
    "\n",
    "# .format을 이용\n",
    "print(\" I ate {0} apples. So I sicked {1} days\".format(number,day))\n",
    "print(\" I ate {0} apples. So I sicked {1} days. Never eat {0} apples\".format(number,day))\n",
    "print(\" I ate {} apples. So I sicked {} days\".format(number,day))\n",
    "\n",
    "# f-string을 이용\n",
    "print(f\" I ate {number} apples. So I sicked {day} days\")"
   ]
  },
  {
   "cell_type": "markdown",
   "id": "156d8b79-c6a5-43fb-90ed-688996a19366",
   "metadata": {},
   "source": [
    "* upper \n",
    "* lower\n",
    "* capitalize\n",
    "* strip\n",
    "* find\n",
    "* split"
   ]
  },
  {
   "cell_type": "code",
   "execution_count": 73,
   "id": "ae769495-ba6b-405f-a412-860b1bdc31dd",
   "metadata": {},
   "outputs": [
    {
     "data": {
      "text/plain": [
       "'20250609sine'"
      ]
     },
     "execution_count": 73,
     "metadata": {},
     "output_type": "execute_result"
    }
   ],
   "source": [
    "a"
   ]
  },
  {
   "cell_type": "code",
   "execution_count": 79,
   "id": "829bb6bc-21fa-48c8-9066-6c4e4a7ae54e",
   "metadata": {},
   "outputs": [
    {
     "data": {
      "text/plain": [
       "'Hello'"
      ]
     },
     "execution_count": 79,
     "metadata": {},
     "output_type": "execute_result"
    }
   ],
   "source": [
    "a = \"Hello\"\n",
    "a"
   ]
  },
  {
   "cell_type": "code",
   "execution_count": 76,
   "id": "b8207bcd-cdec-4644-a180-420159edfa33",
   "metadata": {},
   "outputs": [
    {
     "data": {
      "text/plain": [
       "'HELLO'"
      ]
     },
     "execution_count": 76,
     "metadata": {},
     "output_type": "execute_result"
    }
   ],
   "source": [
    "a.upper()"
   ]
  },
  {
   "cell_type": "code",
   "execution_count": 77,
   "id": "c36f4eb6-19b7-401a-94c3-879a3d559014",
   "metadata": {},
   "outputs": [
    {
     "data": {
      "text/plain": [
       "'hello'"
      ]
     },
     "execution_count": 77,
     "metadata": {},
     "output_type": "execute_result"
    }
   ],
   "source": [
    "a.lower()"
   ]
  },
  {
   "cell_type": "code",
   "execution_count": 80,
   "id": "b2736295-aac8-4bee-bf9d-88f4dd5ab342",
   "metadata": {},
   "outputs": [
    {
     "data": {
      "text/plain": [
       "'Hello'"
      ]
     },
     "execution_count": 80,
     "metadata": {},
     "output_type": "execute_result"
    }
   ],
   "source": [
    "a.capitalize()"
   ]
  },
  {
   "cell_type": "code",
   "execution_count": 83,
   "id": "398f3724-9480-4ea6-b898-7372141cb3ea",
   "metadata": {},
   "outputs": [
    {
     "data": {
      "text/plain": [
       "'Hello'"
      ]
     },
     "execution_count": 83,
     "metadata": {},
     "output_type": "execute_result"
    }
   ],
   "source": [
    "a = \"   Hello   \"\n",
    "b = a.strip()\n",
    "b"
   ]
  },
  {
   "cell_type": "code",
   "execution_count": 84,
   "id": "8a2072df-7d72-4a74-8e9e-206000109527",
   "metadata": {},
   "outputs": [
    {
     "data": {
      "text/plain": [
       "'   Hello'"
      ]
     },
     "execution_count": 84,
     "metadata": {},
     "output_type": "execute_result"
    }
   ],
   "source": [
    "a.rstrip()"
   ]
  },
  {
   "cell_type": "code",
   "execution_count": 87,
   "id": "d73f0731-8369-4b52-aad6-1298f9648baf",
   "metadata": {},
   "outputs": [
    {
     "data": {
      "text/plain": [
       "-1"
      ]
     },
     "execution_count": 87,
     "metadata": {},
     "output_type": "execute_result"
    }
   ],
   "source": [
    "a = \"안녕하세요\"\n",
    "a.find(\"안녕\")\n",
    "a.find(\"녕\")\n",
    "a.find(\"D\")"
   ]
  },
  {
   "cell_type": "code",
   "execution_count": 101,
   "id": "73212b1b-d833-42b6-9af4-905ed0f9f15f",
   "metadata": {},
   "outputs": [
    {
     "data": {
      "text/plain": [
       "'영희,철수,영숙,영수'"
      ]
     },
     "execution_count": 101,
     "metadata": {},
     "output_type": "execute_result"
    }
   ],
   "source": [
    "a = \"영희,철수,영숙,영수\"\n",
    "a"
   ]
  },
  {
   "cell_type": "code",
   "execution_count": 103,
   "id": "f36973b2-a01e-4867-941d-baad41dcf62e",
   "metadata": {},
   "outputs": [
    {
     "data": {
      "text/plain": [
       "['영희', '철수', '영숙', '영수']"
      ]
     },
     "execution_count": 103,
     "metadata": {},
     "output_type": "execute_result"
    }
   ],
   "source": [
    "a.split(sep=',')"
   ]
  },
  {
   "cell_type": "code",
   "execution_count": 106,
   "id": "21a4f4da-4878-42ed-8486-fae85d4536e3",
   "metadata": {},
   "outputs": [
    {
     "data": {
      "text/plain": [
       "'영희_철수_영숙_영수'"
      ]
     },
     "execution_count": 106,
     "metadata": {},
     "output_type": "execute_result"
    }
   ],
   "source": [
    "#'.'.join(['ab', 'pq', 'rs']) -> 'ab.pq.rs'\n",
    "\"_\".join(['영희','철수','영숙','영수'])"
   ]
  },
  {
   "cell_type": "markdown",
   "id": "019f54e8-ac9f-4d20-a853-1422ec2f023f",
   "metadata": {},
   "source": [
    "## 제어문\n",
    "- 반복문 : for , while\n",
    "- 조건문 : if  "
   ]
  },
  {
   "cell_type": "markdown",
   "id": "eedf872e-bded-4c20-b5c9-b4500428fad8",
   "metadata": {},
   "source": [
    "## 참거짓형\n",
    "- boolean 형, bool"
   ]
  },
  {
   "cell_type": "code",
   "execution_count": 109,
   "id": "6671c2bd-eeab-49d4-b562-53933e8155e6",
   "metadata": {},
   "outputs": [
    {
     "data": {
      "text/plain": [
       "False"
      ]
     },
     "execution_count": 109,
     "metadata": {},
     "output_type": "execute_result"
    }
   ],
   "source": [
    "1 == 1\n",
    "1 != 1"
   ]
  },
  {
   "cell_type": "code",
   "execution_count": 110,
   "id": "509441c5-8b18-456e-b576-610c3b4d81bd",
   "metadata": {},
   "outputs": [
    {
     "data": {
      "text/plain": [
       "True"
      ]
     },
     "execution_count": 110,
     "metadata": {},
     "output_type": "execute_result"
    }
   ],
   "source": [
    "bool(\"지갑\")"
   ]
  },
  {
   "cell_type": "code",
   "execution_count": 121,
   "id": "884c76fe-9619-49d1-b341-6ffd66fef4bb",
   "metadata": {},
   "outputs": [
    {
     "data": {
      "text/plain": [
       "True"
      ]
     },
     "execution_count": 121,
     "metadata": {},
     "output_type": "execute_result"
    }
   ],
   "source": [
    "bool(\" \")"
   ]
  },
  {
   "cell_type": "code",
   "execution_count": 123,
   "id": "0dece444-4c4e-4d8b-84a2-feea1d274c19",
   "metadata": {},
   "outputs": [
    {
     "name": "stdout",
     "output_type": "stream",
     "text": [
      "누구냐\n"
     ]
    }
   ],
   "source": [
    "if 1 :\n",
    "    print(\"누구냐\")"
   ]
  },
  {
   "cell_type": "markdown",
   "id": "3ccab709-963e-407d-8845-9f2ddfde6269",
   "metadata": {},
   "source": [
    "## 파이썬 고유의 자료형"
   ]
  },
  {
   "cell_type": "markdown",
   "id": "c068e09c-f657-423d-931a-5cd5c2d34962",
   "metadata": {},
   "source": [
    "## 리스트"
   ]
  },
  {
   "cell_type": "code",
   "execution_count": 124,
   "id": "ec2258bf-c3a7-4544-aad9-2d172605c752",
   "metadata": {},
   "outputs": [],
   "source": [
    "a = [1,2,'영희','철수',True,False,[3,4]]"
   ]
  },
  {
   "cell_type": "code",
   "execution_count": 125,
   "id": "689eebcb-bbb0-49d5-a081-efefed70fcc1",
   "metadata": {},
   "outputs": [
    {
     "data": {
      "text/plain": [
       "[1, 2, '영희', '철수', True, False, [3, 4]]"
      ]
     },
     "execution_count": 125,
     "metadata": {},
     "output_type": "execute_result"
    }
   ],
   "source": [
    "a"
   ]
  },
  {
   "cell_type": "markdown",
   "id": "3edb90ef-7436-407b-bb43-7dcf73245366",
   "metadata": {},
   "source": [
    "- 접근 (읽기)"
   ]
  },
  {
   "cell_type": "code",
   "execution_count": 127,
   "id": "dc356ef7-21cd-4201-8f2e-dc10ed044097",
   "metadata": {},
   "outputs": [
    {
     "data": {
      "text/plain": [
       "[1, 2, '영희', '철수', True, False, [3, 4]]"
      ]
     },
     "execution_count": 127,
     "metadata": {},
     "output_type": "execute_result"
    }
   ],
   "source": [
    "a = [1,2,'영희','철수',True,False,[3,4]]\n",
    "a"
   ]
  },
  {
   "cell_type": "code",
   "execution_count": 130,
   "id": "75cea781-2dcd-4ee6-b994-29f329db3a17",
   "metadata": {},
   "outputs": [
    {
     "data": {
      "text/plain": [
       "[3, 4]"
      ]
     },
     "execution_count": 130,
     "metadata": {},
     "output_type": "execute_result"
    }
   ],
   "source": [
    "# indexing\n",
    "a[0]\n",
    "a[1]\n",
    "a[2]\n",
    "a[6]\n",
    "a[-1]"
   ]
  },
  {
   "cell_type": "code",
   "execution_count": 133,
   "id": "0440ab8c-875a-4129-8601-0195914a3f53",
   "metadata": {},
   "outputs": [
    {
     "data": {
      "text/plain": [
       "'영희'"
      ]
     },
     "execution_count": 133,
     "metadata": {},
     "output_type": "execute_result"
    }
   ],
   "source": [
    "# slicing\n",
    "a[:2]\n",
    "a[2:5][0]"
   ]
  },
  {
   "cell_type": "code",
   "execution_count": 135,
   "id": "04e371c1-8764-4677-a18f-54a63958f96a",
   "metadata": {},
   "outputs": [
    {
     "data": {
      "text/plain": [
       "3"
      ]
     },
     "execution_count": 135,
     "metadata": {},
     "output_type": "execute_result"
    }
   ],
   "source": [
    "a[6][0]"
   ]
  },
  {
   "cell_type": "code",
   "execution_count": 169,
   "id": "82c0c83f-3c3e-4a5b-b896-02b575cc86b7",
   "metadata": {},
   "outputs": [
    {
     "data": {
      "text/plain": [
       "[1, 2, '영희', '철수', [3, 4, 'Hello', 'Good mornig']]"
      ]
     },
     "execution_count": 169,
     "metadata": {},
     "output_type": "execute_result"
    }
   ],
   "source": [
    "a =  [1, 2, '영희', \"철수\", [3,4,\"Hello\", \"Good mornig\"]]\n",
    "\n",
    "a"
   ]
  },
  {
   "cell_type": "markdown",
   "id": "c822d9e0-c23f-4bc9-9d01-69064ef605c0",
   "metadata": {},
   "source": [
    "### 튜플\n",
    "- 99% 리스트와 같다\n",
    "- 수정할 수 없다\n",
    "  \n",
    "- 묶는 것의 디폴트다\n",
    "- for 문에서 주로 사용"
   ]
  },
  {
   "cell_type": "code",
   "execution_count": 2,
   "id": "6be236c2-7069-4721-bfbc-0d24626af88a",
   "metadata": {},
   "outputs": [
    {
     "data": {
      "text/plain": [
       "'b'"
      ]
     },
     "execution_count": 2,
     "metadata": {},
     "output_type": "execute_result"
    }
   ],
   "source": [
    "a = (\"a\",\"b\",\"c\")\n",
    "a[1]"
   ]
  },
  {
   "cell_type": "markdown",
   "id": "11bc37a5-1e48-483f-9f4d-5d5329115d21",
   "metadata": {},
   "source": [
    "### 딕셔너리 dictionary"
   ]
  },
  {
   "cell_type": "code",
   "execution_count": 206,
   "id": "0140028a-e317-4974-8e3f-23fef71a1140",
   "metadata": {},
   "outputs": [],
   "source": [
    "a = {\"apple\":\"사과\",\"banana\":\"바나나\",\"cherry\":\"체리\"}"
   ]
  },
  {
   "cell_type": "code",
   "execution_count": 207,
   "id": "ec09f62a-f5d8-471f-ab6f-d7d19f3cc4ac",
   "metadata": {},
   "outputs": [
    {
     "data": {
      "text/plain": [
       "{'apple': '사과', 'banana': '바나나', 'cherry': '체리'}"
      ]
     },
     "execution_count": 207,
     "metadata": {},
     "output_type": "execute_result"
    }
   ],
   "source": [
    "a"
   ]
  },
  {
   "cell_type": "code",
   "execution_count": 209,
   "id": "552893fd-0fb2-456c-8799-abaf05a782a6",
   "metadata": {},
   "outputs": [
    {
     "data": {
      "text/plain": [
       "'사과'"
      ]
     },
     "execution_count": 209,
     "metadata": {},
     "output_type": "execute_result"
    }
   ],
   "source": [
    "a['apple']"
   ]
  },
  {
   "cell_type": "code",
   "execution_count": 210,
   "id": "e4bf8fc6-5432-4e42-a4dc-0e9d44c01eab",
   "metadata": {},
   "outputs": [
    {
     "data": {
      "text/plain": [
       "dict_items([('apple', '사과'), ('banana', '바나나'), ('cherry', '체리')])"
      ]
     },
     "execution_count": 210,
     "metadata": {},
     "output_type": "execute_result"
    }
   ],
   "source": [
    "a.items()"
   ]
  },
  {
   "cell_type": "code",
   "execution_count": 211,
   "id": "09250cdc-3161-4de7-9add-7044fae8433c",
   "metadata": {},
   "outputs": [
    {
     "data": {
      "text/plain": [
       "dict_keys(['apple', 'banana', 'cherry'])"
      ]
     },
     "execution_count": 211,
     "metadata": {},
     "output_type": "execute_result"
    }
   ],
   "source": [
    "a.keys()"
   ]
  },
  {
   "cell_type": "code",
   "execution_count": 212,
   "id": "79f7c598-774c-4737-b0c3-354ac59e6400",
   "metadata": {},
   "outputs": [
    {
     "data": {
      "text/plain": [
       "dict_values(['사과', '바나나', '체리'])"
      ]
     },
     "execution_count": 212,
     "metadata": {},
     "output_type": "execute_result"
    }
   ],
   "source": [
    "a.values()"
   ]
  },
  {
   "cell_type": "code",
   "execution_count": 227,
   "id": "905d489a-1756-4cc6-bd09-fce2346a268f",
   "metadata": {},
   "outputs": [
    {
     "data": {
      "text/plain": [
       "{'apple': '사과', 'banana': '빠나나', 'cherry': '체리'}"
      ]
     },
     "execution_count": 227,
     "metadata": {},
     "output_type": "execute_result"
    }
   ],
   "source": [
    "#for key in a.keys() :\n",
    "#   print(a[key])\n",
    "\n",
    "\n",
    "\n",
    "b =  {\"apple\":[a['apple'],\"능금\"]}\n",
    "b\n",
    "\n",
    "a['banana'] = \"빠나나\"\n",
    "a"
   ]
  },
  {
   "cell_type": "code",
   "execution_count": 230,
   "id": "bde8d65b-83fb-43d2-a99a-877343d3ca00",
   "metadata": {},
   "outputs": [
    {
     "data": {
      "text/plain": [
       "{'apple': '사과', 'banana': '빠나나', 'cherry': '체리', 'donuts': '도너츠'}"
      ]
     },
     "execution_count": 230,
     "metadata": {},
     "output_type": "execute_result"
    }
   ],
   "source": [
    "# donuts : 도너츠 를 추가\n",
    "a['donuts'] = \"도너츠\"\n",
    "a"
   ]
  },
  {
   "cell_type": "code",
   "execution_count": 139,
   "id": "3844364a-bf62-44de-b4ad-504706729b2f",
   "metadata": {},
   "outputs": [
    {
     "data": {
      "text/plain": [
       "'Good'"
      ]
     },
     "execution_count": 139,
     "metadata": {},
     "output_type": "execute_result"
    }
   ],
   "source": [
    "a[4][3][:4]"
   ]
  },
  {
   "cell_type": "code",
   "execution_count": 153,
   "id": "b8b55db6-11eb-4dfd-8dde-4653aa034b64",
   "metadata": {},
   "outputs": [],
   "source": [
    "# 값을 바꿀 때는 덮어쓰기를 한다\n",
    "a[0] = 10\n",
    "a[4][0] = 30"
   ]
  },
  {
   "cell_type": "code",
   "execution_count": 162,
   "id": "0440b7a6-88b0-48be-b57b-9d8c551006a2",
   "metadata": {},
   "outputs": [
    {
     "data": {
      "text/plain": [
       "['영희']"
      ]
     },
     "execution_count": 162,
     "metadata": {},
     "output_type": "execute_result"
    }
   ],
   "source": [
    "a"
   ]
  },
  {
   "cell_type": "markdown",
   "id": "998de214-20be-4b43-8066-fe699cdc38c1",
   "metadata": {},
   "source": [
    "- delete"
   ]
  },
  {
   "cell_type": "code",
   "execution_count": 148,
   "id": "d46e63a7-8147-452e-8b51-7291e70c8d23",
   "metadata": {},
   "outputs": [
    {
     "data": {
      "text/plain": [
       "'영희'"
      ]
     },
     "execution_count": 148,
     "metadata": {},
     "output_type": "execute_result"
    }
   ],
   "source": [
    "a[2]"
   ]
  },
  {
   "cell_type": "code",
   "execution_count": 164,
   "id": "f662b3e2-850e-4d97-b9da-735b22dc53dc",
   "metadata": {},
   "outputs": [],
   "source": [
    "del a[2]"
   ]
  },
  {
   "cell_type": "code",
   "execution_count": 165,
   "id": "1e8aef5c-40cc-4f7b-80a3-d532093952cf",
   "metadata": {},
   "outputs": [
    {
     "data": {
      "text/plain": [
       "[1, 2, '철수', [3, 4, 'Hello', 'Good mornig']]"
      ]
     },
     "execution_count": 165,
     "metadata": {},
     "output_type": "execute_result"
    }
   ],
   "source": [
    "a"
   ]
  },
  {
   "cell_type": "code",
   "execution_count": 166,
   "id": "23a4fdfd-a67a-4e92-9fca-c8a30cfe3e6e",
   "metadata": {},
   "outputs": [
    {
     "data": {
      "text/plain": [
       "['철수', [3, 4, 'Hello', 'Good mornig']]"
      ]
     },
     "execution_count": 166,
     "metadata": {},
     "output_type": "execute_result"
    }
   ],
   "source": [
    "# 지우는 것도 덮어쓰기로 지운다.\n",
    "a = a[2:]\n",
    "a"
   ]
  },
  {
   "cell_type": "markdown",
   "id": "e531ff1e-7590-462d-bbb1-f902bb520855",
   "metadata": {},
   "source": [
    "- 값 추가하기"
   ]
  },
  {
   "cell_type": "code",
   "execution_count": 155,
   "id": "653dcb35-9024-42b4-b507-1d1da88f7286",
   "metadata": {},
   "outputs": [
    {
     "data": {
      "text/plain": [
       "[1, 2]"
      ]
     },
     "execution_count": 155,
     "metadata": {},
     "output_type": "execute_result"
    }
   ],
   "source": [
    "# 방법1\n",
    "[1] + [2]"
   ]
  },
  {
   "cell_type": "code",
   "execution_count": 161,
   "id": "b77a1592-559f-4c86-a4c8-29db93168bf5",
   "metadata": {},
   "outputs": [
    {
     "data": {
      "text/plain": [
       "['영희1', '영희']"
      ]
     },
     "execution_count": 161,
     "metadata": {},
     "output_type": "execute_result"
    }
   ],
   "source": [
    "['영희1']+a"
   ]
  },
  {
   "cell_type": "code",
   "execution_count": 172,
   "id": "5a5de46a-ead8-488c-a1be-2d3193135058",
   "metadata": {},
   "outputs": [
    {
     "data": {
      "text/plain": [
       "['영희', '철수', [3, 4, 'Hello', 'Good mornig']]"
      ]
     },
     "execution_count": 172,
     "metadata": {},
     "output_type": "execute_result"
    }
   ],
   "source": [
    "a = a[2:]\n",
    "\n",
    "# insert() 메서드 사용\n",
    "\n",
    "a.insert(0,'영희')\n",
    "a"
   ]
  },
  {
   "cell_type": "code",
   "execution_count": 173,
   "id": "08d1ec1e-d336-4930-b17f-c19ba3bd6387",
   "metadata": {},
   "outputs": [
    {
     "data": {
      "text/plain": [
       "['영희', '철수', [3, 4, 'Hello', 'Good mornig']]"
      ]
     },
     "execution_count": 173,
     "metadata": {},
     "output_type": "execute_result"
    }
   ],
   "source": [
    "a"
   ]
  },
  {
   "cell_type": "code",
   "execution_count": 174,
   "id": "795753cf-6c63-4bab-a9b3-6d98b36c9e65",
   "metadata": {},
   "outputs": [],
   "source": [
    "a.append(\"아무나\")"
   ]
  },
  {
   "cell_type": "code",
   "execution_count": 175,
   "id": "da134d69-34e4-4235-975f-d06dfdcfffd3",
   "metadata": {},
   "outputs": [
    {
     "data": {
      "text/plain": [
       "['영희', '철수', [3, 4, 'Hello', 'Good mornig'], '아무나']"
      ]
     },
     "execution_count": 175,
     "metadata": {},
     "output_type": "execute_result"
    }
   ],
   "source": [
    "a"
   ]
  },
  {
   "cell_type": "code",
   "execution_count": 176,
   "id": "54276f7f-0ea3-4359-9197-00ee27b20c80",
   "metadata": {},
   "outputs": [],
   "source": [
    "a[2].append(\"dddd\")"
   ]
  },
  {
   "cell_type": "code",
   "execution_count": 177,
   "id": "642258a5-b1b4-4e9c-8e07-578aaf639405",
   "metadata": {},
   "outputs": [
    {
     "data": {
      "text/plain": [
       "['영희', '철수', [3, 4, 'Hello', 'Good mornig', 'dddd'], '아무나']"
      ]
     },
     "execution_count": 177,
     "metadata": {},
     "output_type": "execute_result"
    }
   ],
   "source": [
    "a"
   ]
  },
  {
   "cell_type": "code",
   "execution_count": 178,
   "id": "b9dc14d2-fae3-462a-abe2-ea366e68b578",
   "metadata": {},
   "outputs": [
    {
     "ename": "ValueError",
     "evalue": "list.remove(x): x not in list",
     "output_type": "error",
     "traceback": [
      "\u001b[31m---------------------------------------------------------------------------\u001b[39m",
      "\u001b[31mValueError\u001b[39m                                Traceback (most recent call last)",
      "\u001b[36mCell\u001b[39m\u001b[36m \u001b[39m\u001b[32mIn[178]\u001b[39m\u001b[32m, line 1\u001b[39m\n\u001b[32m----> \u001b[39m\u001b[32m1\u001b[39m \u001b[43ma\u001b[49m\u001b[43m.\u001b[49m\u001b[43mremove\u001b[49m\u001b[43m(\u001b[49m\u001b[32;43m0\u001b[39;49m\u001b[43m)\u001b[49m\n",
      "\u001b[31mValueError\u001b[39m: list.remove(x): x not in list"
     ]
    }
   ],
   "source": [
    "a.remove(0)"
   ]
  },
  {
   "cell_type": "code",
   "execution_count": 179,
   "id": "ba793a0a-359a-461b-a20c-374bbcf66eb6",
   "metadata": {},
   "outputs": [],
   "source": [
    "a.remove('철수')"
   ]
  },
  {
   "cell_type": "code",
   "execution_count": 180,
   "id": "789f8ee7-c696-4a43-a533-6958c3c01f85",
   "metadata": {},
   "outputs": [
    {
     "data": {
      "text/plain": [
       "['영희', [3, 4, 'Hello', 'Good mornig', 'dddd'], '아무나']"
      ]
     },
     "execution_count": 180,
     "metadata": {},
     "output_type": "execute_result"
    }
   ],
   "source": [
    "a"
   ]
  },
  {
   "cell_type": "code",
   "execution_count": 182,
   "id": "0a4bd52b-e256-4da1-ba11-98f1e6336a16",
   "metadata": {},
   "outputs": [
    {
     "data": {
      "text/plain": [
       "['영희', [3, 4, 'Good mornig', 'dddd'], '아무나']"
      ]
     },
     "execution_count": 182,
     "metadata": {},
     "output_type": "execute_result"
    }
   ],
   "source": [
    "a[1].remove('Hello')\n",
    "a"
   ]
  },
  {
   "cell_type": "code",
   "execution_count": 184,
   "id": "fa67c819-e8ee-4cbf-8991-80750f10485e",
   "metadata": {},
   "outputs": [
    {
     "data": {
      "text/plain": [
       "[1, 2, 4, 3, 1]"
      ]
     },
     "execution_count": 184,
     "metadata": {},
     "output_type": "execute_result"
    }
   ],
   "source": [
    "a = [1,2,4,3,1]\n",
    "a"
   ]
  },
  {
   "cell_type": "code",
   "execution_count": 185,
   "id": "1a7b92af-cca9-4a8f-bd3a-699774116fc7",
   "metadata": {},
   "outputs": [],
   "source": [
    "a.sort()"
   ]
  },
  {
   "cell_type": "code",
   "execution_count": 187,
   "id": "8c8660c7-4e2e-4cfc-8e7a-0f6c1b0e1d86",
   "metadata": {},
   "outputs": [
    {
     "data": {
      "text/plain": [
       "[1, 1, 2, 3, 4]"
      ]
     },
     "execution_count": 187,
     "metadata": {},
     "output_type": "execute_result"
    }
   ],
   "source": [
    "a"
   ]
  },
  {
   "cell_type": "code",
   "execution_count": 197,
   "id": "a7bdbfe0-b82c-4034-9122-588ebba1c646",
   "metadata": {},
   "outputs": [],
   "source": [
    "a = [ 3,2,4,1,5]\n",
    "#a.reverse()"
   ]
  },
  {
   "cell_type": "code",
   "execution_count": 189,
   "id": "de061816-15de-4836-a460-368b498b86a4",
   "metadata": {},
   "outputs": [
    {
     "data": {
      "text/plain": [
       "[5, 1, 4, 2, 3]"
      ]
     },
     "execution_count": 189,
     "metadata": {},
     "output_type": "execute_result"
    }
   ],
   "source": [
    "a"
   ]
  },
  {
   "cell_type": "code",
   "execution_count": 202,
   "id": "ae4cb20e-e2ca-46de-97dc-6c342fd41985",
   "metadata": {},
   "outputs": [
    {
     "data": {
      "text/plain": [
       "[5, 4, 3, 2, 1]"
      ]
     },
     "execution_count": 202,
     "metadata": {},
     "output_type": "execute_result"
    }
   ],
   "source": [
    "b = a.sort(reverse=True)\n",
    "a"
   ]
  },
  {
   "cell_type": "code",
   "execution_count": 200,
   "id": "4672a958-9e28-40a3-aa63-f344074e52c1",
   "metadata": {},
   "outputs": [
    {
     "data": {
      "text/plain": [
       "[5, 4, 3, 2, 1]"
      ]
     },
     "execution_count": 200,
     "metadata": {},
     "output_type": "execute_result"
    }
   ],
   "source": [
    "a"
   ]
  },
  {
   "cell_type": "markdown",
   "id": "08535ce0-fc83-4943-9157-133ebcc6c65b",
   "metadata": {},
   "source": [
    "## 집합\n",
    "- 중복 제거할 때 쓰인다"
   ]
  },
  {
   "cell_type": "code",
   "execution_count": 3,
   "id": "25dce6bc-bc79-4dde-9db7-fdcc95391ff8",
   "metadata": {},
   "outputs": [
    {
     "data": {
      "text/plain": [
       "{1, 2, 3, 4}"
      ]
     },
     "execution_count": 3,
     "metadata": {},
     "output_type": "execute_result"
    }
   ],
   "source": [
    "a = { 1,2,3,4, 1,1,1}\n",
    "a"
   ]
  },
  {
   "cell_type": "markdown",
   "id": "4465ab0b-8c7a-4394-973b-fa82bde5ee87",
   "metadata": {},
   "source": [
    "## 제어문"
   ]
  },
  {
   "cell_type": "code",
   "execution_count": 4,
   "id": "6e45fe6d-d7c8-4d6c-b437-a8a456aa1171",
   "metadata": {
    "scrolled": true
   },
   "outputs": [
    {
     "name": "stdout",
     "output_type": "stream",
     "text": [
      "1\n"
     ]
    }
   ],
   "source": [
    "print(\"1\")\n",
    "print(\"2\")\n",
    "print(\"3\")\n",
    "print(\"1\")\n",
    "print(\"1\")\n",
    "print(\"1\")\n",
    "print(\"1\")\n",
    "print(\"1\")"
   ]
  },
  {
   "cell_type": "markdown",
   "id": "830aa1c6-31b5-4b44-acd3-c21aa8a7e0f0",
   "metadata": {},
   "source": [
    "- for 단수 in 복수:"
   ]
  },
  {
   "cell_type": "code",
   "execution_count": 19,
   "id": "2e616301-e26a-44e1-92ed-2493cb7c8cdd",
   "metadata": {},
   "outputs": [
    {
     "name": "stdout",
     "output_type": "stream",
     "text": [
      "1\n",
      "10\n",
      "--------------------\n",
      "\n",
      "2\n",
      "20\n",
      "--------------------\n",
      "\n",
      "3\n",
      "30\n",
      "--------------------\n",
      "\n",
      "4\n",
      "40\n",
      "--------------------\n",
      "\n"
     ]
    }
   ],
   "source": [
    "for a in [1,2,3,4] :\n",
    "    print(a)\n",
    "    print(a*10)\n",
    "    print(\"-\"*20)\n",
    "    print()\n"
   ]
  },
  {
   "cell_type": "code",
   "execution_count": 100,
   "id": "c7dbf30b-e074-4b1e-b8cb-c7e0ef60f1f4",
   "metadata": {},
   "outputs": [
    {
     "name": "stdout",
     "output_type": "stream",
     "text": [
      "합:25 , 총카운터수:5\n"
     ]
    }
   ],
   "source": [
    "# 1부터 999 짝수합 구하기\n",
    "sum = 0\n",
    "count = 0\n",
    "for a in range (1,11,2) :    \n",
    "    sum += a\n",
    "    count += 1\n",
    "    \n",
    "print(f\"합:{sum} , 총카운터수:{count}\")    "
   ]
  },
  {
   "cell_type": "code",
   "execution_count": 83,
   "id": "29df4e77-2966-4985-9748-be88647a7ec1",
   "metadata": {},
   "outputs": [
    {
     "name": "stdin",
     "output_type": "stream",
     "text": [
      "원하는 숫자를 입력 해 주세요: 999\n"
     ]
    },
    {
     "name": "stdout",
     "output_type": "stream",
     "text": [
      "498501\n"
     ]
    }
   ],
   "source": [
    "# 1부터 입력받은 수까지의 총합\n",
    "result = 0\n",
    "\n",
    "read = int(input(\"원하는 숫자를 입력 해 주세요:\"))\n",
    "\n",
    "for num in range(read) :\n",
    "    result = result + num\n",
    "    # print(num)\n",
    "    # print(result)\n",
    "\n",
    "print(result)"
   ]
  },
  {
   "cell_type": "code",
   "execution_count": 50,
   "id": "ad09cca7-c96d-4676-84fa-a9f86e781d37",
   "metadata": {},
   "outputs": [
    {
     "name": "stdout",
     "output_type": "stream",
     "text": [
      "영희\n",
      "철수\n",
      "재연\n",
      "지민\n",
      "우재\n"
     ]
    }
   ],
   "source": [
    "members = [\"영희\",\"철수\",\"재연\",\"지민\",\"우재\"] \n",
    "for member in members:\n",
    "    print(member)\n"
   ]
  },
  {
   "cell_type": "code",
   "execution_count": 92,
   "id": "5fe6bfab-5b60-491e-a025-15323a8a5409",
   "metadata": {
    "collapsed": true,
    "jupyter": {
     "outputs_hidden": true
    }
   },
   "outputs": [
    {
     "name": "stdout",
     "output_type": "stream",
     "text": [
      "--- 2단 ---\n",
      " 2 x 1 = 2\n",
      " 2 x 2 = 4\n",
      " 2 x 3 = 6\n",
      " 2 x 4 = 8\n",
      " 2 x 5 = 10\n",
      " 2 x 6 = 12\n",
      " 2 x 7 = 14\n",
      " 2 x 8 = 16\n",
      " 2 x 9 = 18\n",
      "\n",
      "--- 3단 ---\n",
      " 3 x 1 = 3\n",
      " 3 x 2 = 6\n",
      " 3 x 3 = 9\n",
      " 3 x 4 = 12\n",
      " 3 x 5 = 15\n",
      " 3 x 6 = 18\n",
      " 3 x 7 = 21\n",
      " 3 x 8 = 24\n",
      " 3 x 9 = 27\n",
      "\n",
      "--- 4단 ---\n",
      " 4 x 1 = 4\n",
      " 4 x 2 = 8\n",
      " 4 x 3 = 12\n",
      " 4 x 4 = 16\n",
      " 4 x 5 = 20\n",
      " 4 x 6 = 24\n",
      " 4 x 7 = 28\n",
      " 4 x 8 = 32\n",
      " 4 x 9 = 36\n",
      "\n",
      "--- 5단 ---\n",
      " 5 x 1 = 5\n",
      " 5 x 2 = 10\n",
      " 5 x 3 = 15\n",
      " 5 x 4 = 20\n",
      " 5 x 5 = 25\n",
      " 5 x 6 = 30\n",
      " 5 x 7 = 35\n",
      " 5 x 8 = 40\n",
      " 5 x 9 = 45\n",
      "\n",
      "--- 6단 ---\n",
      " 6 x 1 = 6\n",
      " 6 x 2 = 12\n",
      " 6 x 3 = 18\n",
      " 6 x 4 = 24\n",
      " 6 x 5 = 30\n",
      " 6 x 6 = 36\n",
      " 6 x 7 = 42\n",
      " 6 x 8 = 48\n",
      " 6 x 9 = 54\n",
      "\n",
      "--- 7단 ---\n",
      " 7 x 1 = 7\n",
      " 7 x 2 = 14\n",
      " 7 x 3 = 21\n",
      " 7 x 4 = 28\n",
      " 7 x 5 = 35\n",
      " 7 x 6 = 42\n",
      " 7 x 7 = 49\n",
      " 7 x 8 = 56\n",
      " 7 x 9 = 63\n",
      "\n",
      "--- 8단 ---\n",
      " 8 x 1 = 8\n",
      " 8 x 2 = 16\n",
      " 8 x 3 = 24\n",
      " 8 x 4 = 32\n",
      " 8 x 5 = 40\n",
      " 8 x 6 = 48\n",
      " 8 x 7 = 56\n",
      " 8 x 8 = 64\n",
      " 8 x 9 = 72\n",
      "\n",
      "--- 9단 ---\n",
      " 9 x 1 = 9\n",
      " 9 x 2 = 18\n",
      " 9 x 3 = 27\n",
      " 9 x 4 = 36\n",
      " 9 x 5 = 45\n",
      " 9 x 6 = 54\n",
      " 9 x 7 = 63\n",
      " 9 x 8 = 72\n",
      " 9 x 9 = 81\n",
      "\n"
     ]
    }
   ],
   "source": [
    "for i in range(2,10):\n",
    "    print(\"-\"*3+f\" {i}단 \"+\"-\"*3)\n",
    "    for j in range(1,10):\n",
    "        print(f\" {i} x {j} = {i*j}\")\n",
    "    print()"
   ]
  },
  {
   "cell_type": "code",
   "execution_count": 118,
   "id": "870a7642-728f-4679-92b2-b0f37bafc5eb",
   "metadata": {},
   "outputs": [
    {
     "name": "stdout",
     "output_type": "stream",
     "text": [
      "총합:210 , 35.0  \n"
     ]
    }
   ],
   "source": [
    "\n",
    "scores = [10,20,30,40,50,60]\n",
    "total = 0\n",
    "for num in scores : \n",
    "    total += num\n",
    "average = sum(scores) / len(scores)\n",
    "print(f\"총합:{total} , {average}  \")"
   ]
  },
  {
   "cell_type": "code",
   "execution_count": 119,
   "id": "d00878b9-a223-46c7-989b-adf9234d0b7b",
   "metadata": {},
   "outputs": [
    {
     "data": {
      "text/plain": [
       "{'apple': '사과', 'banana': '바나나', 'cherry': '체리'}"
      ]
     },
     "execution_count": 119,
     "metadata": {},
     "output_type": "execute_result"
    }
   ],
   "source": [
    "di = {\"apple\":\"사과\",\"banana\":\"바나나\",\"cherry\":\"체리\"}\n",
    "di"
   ]
  },
  {
   "cell_type": "code",
   "execution_count": 121,
   "id": "394cb341-fced-4f5b-9a8d-610dd26ad713",
   "metadata": {},
   "outputs": [
    {
     "name": "stdout",
     "output_type": "stream",
     "text": [
      "사과\n",
      "바나나\n",
      "체리\n"
     ]
    }
   ],
   "source": [
    "for i in di.keys() :\n",
    "    print(di[i])"
   ]
  },
  {
   "cell_type": "code",
   "execution_count": 123,
   "id": "b47c2eec-a821-4ce8-8ab0-d4b9826a2042",
   "metadata": {},
   "outputs": [
    {
     "data": {
      "text/plain": [
       "[('a', 1), ('b', 2), ('c', 3)]"
      ]
     },
     "execution_count": 123,
     "metadata": {},
     "output_type": "execute_result"
    }
   ],
   "source": [
    "li = [(\"a\",1),(\"b\",2),(\"c\",3)]\n",
    "li"
   ]
  },
  {
   "cell_type": "code",
   "execution_count": 129,
   "id": "afe2430d-2b7b-48ac-a829-f699152df3e3",
   "metadata": {},
   "outputs": [
    {
     "name": "stdout",
     "output_type": "stream",
     "text": [
      "a\n",
      "1\n",
      "b\n",
      "2\n",
      "c\n",
      "3\n"
     ]
    }
   ],
   "source": [
    "for (i , j) in li :\n",
    "    print(i)\n",
    "    print(j)"
   ]
  },
  {
   "cell_type": "code",
   "execution_count": 130,
   "id": "78511701-978a-4185-bcda-a91a3f051f11",
   "metadata": {},
   "outputs": [
    {
     "name": "stdout",
     "output_type": "stream",
     "text": [
      "a\n",
      "1\n",
      "b\n",
      "2\n",
      "c\n",
      "3\n"
     ]
    }
   ],
   "source": [
    "for i , j in li :\n",
    "    print(i)\n",
    "    print(j)"
   ]
  },
  {
   "cell_type": "code",
   "execution_count": 137,
   "id": "77e611a6-0599-4829-aaee-56536cc96cf7",
   "metadata": {},
   "outputs": [
    {
     "name": "stdout",
     "output_type": "stream",
     "text": [
      "c\n",
      "3\n",
      "c\n",
      "3\n",
      "c\n",
      "3\n"
     ]
    }
   ],
   "source": [
    "for b , _ in li :\n",
    "    print(i)\n",
    "    print(j)"
   ]
  },
  {
   "cell_type": "markdown",
   "id": "f9f7ff19-a36d-47bc-9512-4e17cdf81d86",
   "metadata": {},
   "source": [
    "## if문 조건문"
   ]
  },
  {
   "cell_type": "markdown",
   "id": "9bed5b2a-d0f7-496f-97b2-9d5b19ef6c42",
   "metadata": {},
   "source": [
    "```\n",
    "if 조건 : \n",
    "   참일 때 실행할 문장\n",
    "elif 조건 :\n",
    "   참일 때 실행할 문장\n",
    "else :\n",
    "   실행될 문장\n",
    "```"
   ]
  },
  {
   "cell_type": "code",
   "execution_count": 140,
   "id": "feef1005-0a9a-4384-b20b-d6589432b54b",
   "metadata": {},
   "outputs": [
    {
     "name": "stdout",
     "output_type": "stream",
     "text": [
      "Yes\n"
     ]
    }
   ],
   "source": [
    "if 1 < 2 :\n",
    "    print(\"Yes\")\n",
    "else : \n",
    "    print(\"False\")\n",
    "    "
   ]
  },
  {
   "cell_type": "code",
   "execution_count": 150,
   "id": "5b6257bc-93b8-48f7-9aa3-23237d9289b2",
   "metadata": {},
   "outputs": [
    {
     "name": "stdout",
     "output_type": "stream",
     "text": [
      "시원해요\n"
     ]
    }
   ],
   "source": [
    "temperature = 23\n",
    "if temperature > 25 :\n",
    "    print(\"Hot\")\n",
    "else :\n",
    "    if temperature > 15 :\n",
    "        print(\"시원해요\")\n",
    "    else :\n",
    "        print(\"Cools\")\n",
    "    "
   ]
  },
  {
   "cell_type": "code",
   "execution_count": 159,
   "id": "88a0232c-0712-4647-a732-beaeba4712ff",
   "metadata": {},
   "outputs": [
    {
     "name": "stdin",
     "output_type": "stream",
     "text": [
      "숫자를 입력해주세요 10\n"
     ]
    },
    {
     "name": "stdout",
     "output_type": "stream",
     "text": [
      "짝수\n"
     ]
    }
   ],
   "source": [
    "inputVal = int(input(\"숫자를 입력해주세요\"))\n",
    "\n",
    "if inputVal % 2 == 0 : \n",
    "    print(\"짝수\")\n",
    "else :    \n",
    "    print(\"홀수\")    "
   ]
  },
  {
   "cell_type": "code",
   "execution_count": 162,
   "id": "7485d7c8-efc7-4c83-9f46-16263fd3852d",
   "metadata": {},
   "outputs": [
    {
     "name": "stdin",
     "output_type": "stream",
     "text": [
      "몃살 인가요? 54\n"
     ]
    },
    {
     "name": "stdout",
     "output_type": "stream",
     "text": [
      "중년\n"
     ]
    }
   ],
   "source": [
    "age = int(input(\"몃살 인가요?\"))\n",
    "\n",
    "if age  < 20 : \n",
    "    print(\"청소년\")\n",
    "elif age < 40 :\n",
    "    print(\"청년\")\n",
    "elif age < 70 :\n",
    "    print(\"중년\")\n",
    "else : \n",
    "    print(\"노년\")    \n",
    "    "
   ]
  },
  {
   "cell_type": "code",
   "execution_count": null,
   "id": "dbe81c8e-38d0-45c0-b960-60974a65beee",
   "metadata": {},
   "outputs": [],
   "source": []
  },
  {
   "cell_type": "code",
   "execution_count": 163,
   "id": "3acf30ac-c14b-4d34-a289-6c6e4b7e7466",
   "metadata": {},
   "outputs": [
    {
     "data": {
      "text/plain": [
       "['영희', '철수', '재연', '지민', '우재']"
      ]
     },
     "execution_count": 163,
     "metadata": {},
     "output_type": "execute_result"
    }
   ],
   "source": [
    "members"
   ]
  },
  {
   "cell_type": "code",
   "execution_count": 166,
   "id": "d1d58245-302e-4365-ab0c-ff08e3eb14a1",
   "metadata": {},
   "outputs": [
    {
     "name": "stdin",
     "output_type": "stream",
     "text": [
      "이름을 입력 해 주세요! 박영희\n"
     ]
    },
    {
     "name": "stdout",
     "output_type": "stream",
     "text": [
      "박영희님 합격입니다\n"
     ]
    }
   ],
   "source": [
    "successfuls = ['김철수','박영희','전우치']\n",
    "name = input(\"이름을 입력 해 주세요!\")\n",
    "\n",
    "if name in successfuls :\n",
    "   print(f\"{name}님 합격입니다\")\n",
    "else :\n",
    "    print(f\"{name}님 아쉽군요\")"
   ]
  },
  {
   "cell_type": "code",
   "execution_count": 167,
   "id": "8a580506-e17f-4293-9b4d-7e0f492ab3cd",
   "metadata": {},
   "outputs": [
    {
     "name": "stdout",
     "output_type": "stream",
     "text": [
      "출력 number = 0 \n",
      "출력 number = 2 \n",
      "출력 number = 4 \n",
      "출력 number = 6 \n",
      "출력 number = 8 \n"
     ]
    }
   ],
   "source": [
    "for i in range(10):\n",
    "    if i % 2 == 0 :\n",
    "        print(f\"출력 number = {i} \")\n",
    "        "
   ]
  },
  {
   "cell_type": "code",
   "execution_count": 171,
   "id": "32c42818-35e0-4852-ad55-96d3fa74510e",
   "metadata": {},
   "outputs": [
    {
     "name": "stdin",
     "output_type": "stream",
     "text": [
      "숫자를 입력해주세요 4\n"
     ]
    },
    {
     "name": "stdout",
     "output_type": "stream",
     "text": [
      "16\n"
     ]
    }
   ],
   "source": [
    "number = int(input(\"숫자를 입력해주세요\"))\n",
    "# for i in range(10):\n",
    "if number % 2 == 0 :\n",
    "    print(number* 2)\n",
    "else :\n",
    "    print(number* 3)"
   ]
  },
  {
   "cell_type": "code",
   "execution_count": 172,
   "id": "98036bef-cc8d-4e2b-ab1a-a4d3e4fc3c16",
   "metadata": {},
   "outputs": [
    {
     "name": "stdin",
     "output_type": "stream",
     "text": [
      "숫자를 입력해 주세요 5\n"
     ]
    },
    {
     "name": "stdout",
     "output_type": "stream",
     "text": [
      "짝수 만 더한값 : 6\n"
     ]
    }
   ],
   "source": [
    "number = int(input(\"숫자를 입력해 주세요\"))\n",
    "total = 0 \n",
    "\n",
    "for i in range(number+1) :\n",
    "    if i % 2 == 0 :\n",
    "       total += i\n",
    "\n",
    "print(f\"짝수 만 더한값 : {total}\")"
   ]
  },
  {
   "cell_type": "markdown",
   "id": "88e5056c-9cbc-4c59-8652-9d6b0a79579b",
   "metadata": {},
   "source": [
    "## while 문\n",
    " - for 문 + if 문\n",
    "\n",
    "while 조건 :\n",
    "    실행할 문장"
   ]
  },
  {
   "cell_type": "code",
   "execution_count": 1,
   "id": "c5696f64-b1c8-4496-aa24-b916dd90a3fd",
   "metadata": {},
   "outputs": [
    {
     "name": "stdout",
     "output_type": "stream",
     "text": [
      "1\n",
      "3\n",
      "5\n",
      "7\n",
      "9\n"
     ]
    }
   ],
   "source": [
    "i = 0\n",
    "while i < 10 :\n",
    "    i = i + 1\n",
    "    if i % 2 == 0 :\n",
    "        continue\n",
    "    print(i)"
   ]
  },
  {
   "cell_type": "code",
   "execution_count": 2,
   "id": "a826256a-00a1-44e8-a8fd-2301e0c10f92",
   "metadata": {},
   "outputs": [
    {
     "name": "stdout",
     "output_type": "stream",
     "text": [
      "15\n",
      "20\n",
      "25\n"
     ]
    }
   ],
   "source": [
    "numbers = [5,15,6,20,7,25]\n",
    "for number in numbers:\n",
    "    if number < 10:\n",
    "        continue\n",
    "    print(number)"
   ]
  },
  {
   "cell_type": "code",
   "execution_count": 14,
   "id": "6a9a2462-58e5-4bca-856b-22c27b337ff4",
   "metadata": {},
   "outputs": [
    {
     "data": {
      "text/plain": [
       "[3, 6, 9, 12, 15, 18, 21, 24, 27, 30, 33, 36, 39, 42, 45]"
      ]
     },
     "execution_count": 14,
     "metadata": {},
     "output_type": "execute_result"
    }
   ],
   "source": [
    "i = 0\n",
    "li = []\n",
    "total = 0\n",
    "count = 0\n",
    "while total < 1000 :\n",
    "    i = i + 1\n",
    "    total = total + i\n",
    "    if i % 3 != 0:\n",
    "        continue\n",
    "    # print(i)\n",
    "    count += 1\n",
    "    li.append(i)\n",
    "li "
   ]
  },
  {
   "cell_type": "code",
   "execution_count": 16,
   "id": "c55aea0b-079c-4a20-9b35-5ef16fc8f9f8",
   "metadata": {},
   "outputs": [
    {
     "name": "stdin",
     "output_type": "stream",
     "text": [
      "숫자를 입력해주세요:  2.4\n"
     ]
    },
    {
     "name": "stdout",
     "output_type": "stream",
     "text": [
      "문자를 입력하였습니다.\n",
      "숫자를 입력해주세요.\n"
     ]
    },
    {
     "name": "stdin",
     "output_type": "stream",
     "text": [
      "숫자를 입력해주세요:  2\n"
     ]
    },
    {
     "name": "stdout",
     "output_type": "stream",
     "text": [
      "입력한 숫자: 2\n"
     ]
    }
   ],
   "source": [
    "while True:\n",
    "    user_input = input(\"숫자를 입력해주세요: \")\n",
    "\n",
    "    # 입력값이 숫자인지 확인\n",
    "    if user_input.isdigit():\n",
    "        print(f\"입력한 숫자: {user_input}\")\n",
    "        break  # 숫자를 입력하면 반복 종료\n",
    "    else:\n",
    "        print(\"문자를 입력하였습니다.\")\n",
    "        print(\"숫자를 입력해주세요.\")"
   ]
  },
  {
   "cell_type": "code",
   "execution_count": 26,
   "id": "e8f0ff0b-987b-4efc-ab78-487a867656b2",
   "metadata": {},
   "outputs": [
    {
     "name": "stdout",
     "output_type": "stream",
     "text": [
      "입력값은 숫자만 입력이 가능합니다\n"
     ]
    },
    {
     "name": "stdin",
     "output_type": "stream",
     "text": [
      "값을 입력해 주세요 -32\n"
     ]
    },
    {
     "name": "stdout",
     "output_type": "stream",
     "text": [
      "입력값은 32 입니다.\n"
     ]
    }
   ],
   "source": [
    "print(\"입력값은 숫자만 입력이 가능합니다\")\n",
    "\n",
    "while True :\n",
    "    readWord = input(\"값을 입력해 주세요\")\n",
    "    readWord = readWord.lstrip('-')\n",
    "    if readWord.isdigit() == False:\n",
    "        print(\"숫자만 입력 가능 합니다.\")\n",
    "    else :\n",
    "        print(f\"입력값은 {readWord} 입니다.\")\n",
    "        break"
   ]
  },
  {
   "cell_type": "code",
   "execution_count": 84,
   "id": "3895fcfc-768c-428c-80f5-db7242b1fc32",
   "metadata": {},
   "outputs": [
    {
     "name": "stdout",
     "output_type": "stream",
     "text": [
      "10\n",
      "\n",
      "============= 구분선 ===============\n",
      "\n",
      "상단 for문 변수 i값을 마치 전역변수 화 해서 사용 ^^!\n",
      "\n",
      "  j 값 = 0 , 상단에서 사용한  i 값 = 10 , name =TEST\n",
      "  j 값 = 1 , 상단에서 사용한  i 값 = 10 , name =TEST\n",
      "  j 값 = 2 , 상단에서 사용한  i 값 = 10 , name =TEST\n",
      "  j 값 = 3 , 상단에서 사용한  i 값 = 10 , name =TEST\n",
      "  j 값 = 4 , 상단에서 사용한  i 값 = 10 , name =TEST\n",
      "  j 값 = 5 , 상단에서 사용한  i 값 = 10 , name =TEST\n",
      "  j 값 = 6 , 상단에서 사용한  i 값 = 10 , name =TEST\n",
      "  j 값 = 7 , 상단에서 사용한  i 값 = 10 , name =TEST\n",
      "  j 값 = 8 , 상단에서 사용한  i 값 = 10 , name =TEST\n",
      "  j 값 = 9 , 상단에서 사용한  i 값 = 10 , name =TEST\n"
     ]
    }
   ],
   "source": [
    "\n",
    "for i in range(10,11):\n",
    "    print(i)\n",
    "    name = \"TEST\"\n",
    "\n",
    "print()\n",
    "print(\"============= 구분선 ===============\")\n",
    "print()\n",
    "print(\"상단 for문 변수 i값을 마치 전역변수 화 해서 사용 ^^!\")\n",
    "print()\n",
    "for j in range(10):\n",
    "  #상단에 선언된 i 마지막값이 출력됩니다. ^^!\n",
    "  #상단 for문 변수 \"i\"값을 마치 전역변수 화 해서 사용 ^^!\n",
    "\n",
    "  print(f\"  j 값 = {j} , 상단에서 사용한  i 값 = {i} , name ={name}\")"
   ]
  },
  {
   "cell_type": "code",
   "execution_count": 85,
   "id": "45e2128f-1c73-407b-b630-1dfef677adaf",
   "metadata": {},
   "outputs": [
    {
     "name": "stdout",
     "output_type": "stream",
     "text": [
      "3.1415\n",
      "변경했음\n"
     ]
    }
   ],
   "source": [
    "PI = 3.1415\n",
    "print(PI) \n",
    "\n",
    "PI = \"변경했음\"\n",
    "print(PI)"
   ]
  },
  {
   "cell_type": "code",
   "execution_count": 86,
   "id": "65107ca6-d999-4fde-8056-2a1ed6271d23",
   "metadata": {},
   "outputs": [
    {
     "data": {
      "text/plain": [
       "15"
      ]
     },
     "execution_count": 86,
     "metadata": {},
     "output_type": "execute_result"
    }
   ],
   "source": [
    "min([1,3,5,2,4])\n",
    "sum([1,3,5,2,4])"
   ]
  },
  {
   "cell_type": "code",
   "execution_count": 100,
   "id": "e8e80922-3911-40a8-b7ec-032fb55bf5e8",
   "metadata": {},
   "outputs": [
    {
     "name": "stdout",
     "output_type": "stream",
     "text": [
      "5\n",
      "4\n",
      "3\n",
      "2\n",
      "1\n"
     ]
    }
   ],
   "source": [
    "numbers = [1,2,3,4,5]\n",
    "for i in reversed(numbers):\n",
    "    print(i)"
   ]
  },
  {
   "cell_type": "code",
   "execution_count": 102,
   "id": "71dc9f34-f7d0-4a55-860a-b2f8ca48a116",
   "metadata": {},
   "outputs": [
    {
     "data": {
      "text/plain": [
       "[(0, 'a'), (1, 'b'), (2, 'c')]"
      ]
     },
     "execution_count": 102,
     "metadata": {},
     "output_type": "execute_result"
    }
   ],
   "source": [
    "list(enumerate(['a','b','c']))"
   ]
  },
  {
   "cell_type": "code",
   "execution_count": 107,
   "id": "6334e71e-6c83-407c-9bec-4ffcd8611a9e",
   "metadata": {},
   "outputs": [
    {
     "name": "stdout",
     "output_type": "stream",
     "text": [
      "0 a\n",
      "1 b\n",
      "2 c\n",
      "{0: 'a', 1: 'b', 2: 'c'}\n"
     ]
    }
   ],
   "source": [
    "dc = {}\n",
    "for i,j in enumerate(['a','b','c']):\n",
    "    print(str(i) + \" \" +j)\n",
    "    dc[i] = j\n",
    "print(dc)    "
   ]
  },
  {
   "cell_type": "markdown",
   "id": "7a741ccd-987d-4b7c-b3a8-ae9fd479f1ff",
   "metadata": {},
   "source": [
    "- 리스트 컴프리헨션 list comprehension"
   ]
  },
  {
   "cell_type": "code",
   "execution_count": 115,
   "id": "5ea7c879-05ce-4398-bffc-3c3eca1c2483",
   "metadata": {},
   "outputs": [],
   "source": [
    "nu = []\n",
    "numbers = [1,2,3,5,7]\n",
    "#for i in numbers:\n",
    "#    print(i)\n",
    "#    nu.append(i*2)\n",
    "#print(nu)"
   ]
  },
  {
   "cell_type": "code",
   "execution_count": 119,
   "id": "4850ec68-7293-45e1-8d3b-288b5c2dff0c",
   "metadata": {},
   "outputs": [
    {
     "data": {
      "text/plain": [
       "[2, 4, 6, 10, 14]"
      ]
     },
     "execution_count": 119,
     "metadata": {},
     "output_type": "execute_result"
    }
   ],
   "source": [
    "[i * 2 for i in numbers]"
   ]
  },
  {
   "cell_type": "code",
   "execution_count": 128,
   "id": "8174c863-e98b-4cb9-951b-40ea6bdfcc32",
   "metadata": {},
   "outputs": [
    {
     "data": {
      "text/plain": [
       "[2, 6, 10, 14]"
      ]
     },
     "execution_count": 128,
     "metadata": {},
     "output_type": "execute_result"
    }
   ],
   "source": [
    "[ i * 2 for i in numbers if i % 2 != 0]"
   ]
  },
  {
   "cell_type": "code",
   "execution_count": 130,
   "id": "0b2b91db-f8a7-4ae3-ba7f-70f8d0c00935",
   "metadata": {},
   "outputs": [
    {
     "data": {
      "text/plain": [
       "[36, 49, 64, 81]"
      ]
     },
     "execution_count": 130,
     "metadata": {},
     "output_type": "execute_result"
    }
   ],
   "source": [
    "[ i** 2 for i in range(10) if i > 5]"
   ]
  },
  {
   "cell_type": "code",
   "execution_count": 137,
   "id": "f9037198-f109-47db-969e-08bf9812ceea",
   "metadata": {},
   "outputs": [
    {
     "data": {
      "text/plain": [
       "['Hello', 'Good', 'Morning']"
      ]
     },
     "execution_count": 137,
     "metadata": {},
     "output_type": "execute_result"
    }
   ],
   "source": [
    "a = \"Hello, Good, Morning\"\n",
    "b = a.split(\", \")\n",
    "#\":\".join\n",
    "b"
   ]
  },
  {
   "cell_type": "code",
   "execution_count": 135,
   "id": "ef339707-c94f-42fa-b9f2-0f1264b43687",
   "metadata": {},
   "outputs": [
    {
     "data": {
      "text/plain": [
       "['H:e:l:l:o', 'G:o:o:d', 'M:o:r:n:i:n:g']"
      ]
     },
     "execution_count": 135,
     "metadata": {},
     "output_type": "execute_result"
    }
   ],
   "source": [
    "a = \"Hello, Good, Morning\"\n",
    "[\":\".join(i) for i in a.split(\", \")]"
   ]
  },
  {
   "cell_type": "markdown",
   "id": "5b4df7e8-ec0d-4b0d-a409-7e35364c0d71",
   "metadata": {},
   "source": [
    "# 함수\n",
    "```\n",
    "def 함수이름():\n",
    "    작업\n",
    "    return 작업결과\n",
    "```\n",
    "argument : 인자, 인수\n",
    "parameter: 매개변수"
   ]
  },
  {
   "cell_type": "code",
   "execution_count": 138,
   "id": "eeffee74-0142-4906-8012-da5d1d22a581",
   "metadata": {},
   "outputs": [],
   "source": [
    "def test(x):\n",
    "    y = x*2 + 1\n",
    "    return y"
   ]
  },
  {
   "cell_type": "code",
   "execution_count": 139,
   "id": "42345686-7ffe-4f62-92a7-318b2b846810",
   "metadata": {},
   "outputs": [
    {
     "data": {
      "text/plain": [
       "1"
      ]
     },
     "execution_count": 139,
     "metadata": {},
     "output_type": "execute_result"
    }
   ],
   "source": [
    "test (0)"
   ]
  },
  {
   "cell_type": "code",
   "execution_count": 144,
   "id": "57e87680-698c-4db9-b805-0b789f6e1334",
   "metadata": {},
   "outputs": [],
   "source": [
    "def ten_times(x):\n",
    "    return x*10"
   ]
  },
  {
   "cell_type": "code",
   "execution_count": 145,
   "id": "d13bef94-3506-455a-8489-10c029d1a537",
   "metadata": {},
   "outputs": [
    {
     "data": {
      "text/plain": [
       "30"
      ]
     },
     "execution_count": 145,
     "metadata": {},
     "output_type": "execute_result"
    }
   ],
   "source": [
    " ten_times(3)\n"
   ]
  },
  {
   "cell_type": "markdown",
   "id": "50f75bf3-5e30-416e-919c-c41d12c0c25a",
   "metadata": {},
   "source": [
    "- 입력값이 한개인 경우"
   ]
  },
  {
   "cell_type": "markdown",
   "id": "d763b434-5efc-4628-ac44-cf4483917c6e",
   "metadata": {},
   "source": [
    "- 입력값이 두개인 경우"
   ]
  },
  {
   "cell_type": "code",
   "execution_count": 146,
   "id": "001e31e1-6aa8-459e-95fb-916d05ef5af5",
   "metadata": {},
   "outputs": [],
   "source": [
    "def plus(a,b):\n",
    "    return a*b\n"
   ]
  },
  {
   "cell_type": "markdown",
   "id": "2b00c3b6-2450-483c-b35f-138ff6598e19",
   "metadata": {},
   "source": [
    "- 디폴트값을 주고 싶을 때"
   ]
  },
  {
   "cell_type": "code",
   "execution_count": 152,
   "id": "f0388361-0ce6-4c01-b6bd-1f257cac1d81",
   "metadata": {},
   "outputs": [],
   "source": [
    "def plus_tree(a,b,c = 10):\n",
    "    return a*b *c"
   ]
  },
  {
   "cell_type": "code",
   "execution_count": 153,
   "id": "6ed3e77f-4367-4760-b6de-fd5d9f6416ed",
   "metadata": {},
   "outputs": [
    {
     "data": {
      "text/plain": [
       "20"
      ]
     },
     "execution_count": 153,
     "metadata": {},
     "output_type": "execute_result"
    }
   ],
   "source": [
    "plus_tree(1,2)"
   ]
  },
  {
   "cell_type": "code",
   "execution_count": 154,
   "id": "f2cdb2d4-0f64-4eda-9a28-94043092753f",
   "metadata": {},
   "outputs": [
    {
     "name": "stdout",
     "output_type": "stream",
     "text": [
      "34\n"
     ]
    }
   ],
   "source": [
    "print(3, end=\"\")\n",
    "print(4)"
   ]
  },
  {
   "cell_type": "markdown",
   "id": "d4e0cedf-a702-4f57-b6c1-96918444f3ba",
   "metadata": {},
   "source": [
    "- 입력값이 여러개인 경우"
   ]
  },
  {
   "cell_type": "code",
   "execution_count": 156,
   "id": "d33c65a2-6222-469b-9127-bf8820b2c612",
   "metadata": {},
   "outputs": [],
   "source": [
    "def many(*a):\n",
    "    return a"
   ]
  },
  {
   "cell_type": "markdown",
   "id": "1ef6db0c-8fe3-4ce6-93e1-cfd8a35d1dd3",
   "metadata": {},
   "source": [
    "many(1,2,3)"
   ]
  },
  {
   "cell_type": "code",
   "execution_count": 157,
   "id": "17a170c8-e909-4605-8145-a0f05705d1b6",
   "metadata": {},
   "outputs": [
    {
     "data": {
      "text/plain": [
       "(1, 2, 3)"
      ]
     },
     "execution_count": 157,
     "metadata": {},
     "output_type": "execute_result"
    }
   ],
   "source": [
    "many(1,2,3)"
   ]
  },
  {
   "cell_type": "markdown",
   "id": "5fb446d7-eaef-4269-b31d-f7c316e440d8",
   "metadata": {},
   "source": [
    "- 덜 중요한 것"
   ]
  },
  {
   "cell_type": "code",
   "execution_count": 158,
   "id": "15f7cde5-1157-463b-9ca0-212ff06f574d",
   "metadata": {},
   "outputs": [],
   "source": [
    "def test_1(a):\n",
    "    return a * 2"
   ]
  },
  {
   "cell_type": "code",
   "execution_count": 159,
   "id": "ff942862-6d74-46ad-8305-4221af76f00a",
   "metadata": {},
   "outputs": [
    {
     "data": {
      "text/plain": [
       "18"
      ]
     },
     "execution_count": 159,
     "metadata": {},
     "output_type": "execute_result"
    }
   ],
   "source": [
    "test_1(9)"
   ]
  },
  {
   "cell_type": "code",
   "execution_count": 161,
   "id": "551f0c25-771a-4ac5-9f2f-c444b6f32d94",
   "metadata": {},
   "outputs": [],
   "source": [
    "def test_2(a):\n",
    "    return (a * 3)"
   ]
  },
  {
   "cell_type": "code",
   "execution_count": 168,
   "id": "1b691d17-6e0f-4809-921c-adb125956955",
   "metadata": {},
   "outputs": [
    {
     "data": {
      "text/plain": [
       "int"
      ]
     },
     "execution_count": 168,
     "metadata": {},
     "output_type": "execute_result"
    }
   ],
   "source": [
    "type(test_2(3))"
   ]
  },
  {
   "cell_type": "code",
   "execution_count": 164,
   "id": "5ca61cdc-7f33-4b6a-af36-1a189f2512bb",
   "metadata": {},
   "outputs": [],
   "source": [
    "def test_3(a):\n",
    "    print (a * 3)"
   ]
  },
  {
   "cell_type": "code",
   "execution_count": 165,
   "id": "bc2d28a4-74eb-46c3-9ca8-f9b8275a592f",
   "metadata": {},
   "outputs": [
    {
     "name": "stdout",
     "output_type": "stream",
     "text": [
      "12\n"
     ]
    }
   ],
   "source": [
    "test_3(4)"
   ]
  },
  {
   "cell_type": "code",
   "execution_count": 170,
   "id": "e4be07a2-cf9b-4146-aad3-32b48948aa6d",
   "metadata": {},
   "outputs": [
    {
     "name": "stdout",
     "output_type": "stream",
     "text": [
      "15\n"
     ]
    },
    {
     "ename": "TypeError",
     "evalue": "unsupported operand type(s) for +: 'NoneType' and 'int'",
     "output_type": "error",
     "traceback": [
      "\u001b[31m---------------------------------------------------------------------------\u001b[39m",
      "\u001b[31mTypeError\u001b[39m                                 Traceback (most recent call last)",
      "\u001b[36mCell\u001b[39m\u001b[36m \u001b[39m\u001b[32mIn[170]\u001b[39m\u001b[32m, line 2\u001b[39m\n\u001b[32m      1\u001b[39m a = test_3(\u001b[32m5\u001b[39m)\n\u001b[32m----> \u001b[39m\u001b[32m2\u001b[39m \u001b[43ma\u001b[49m\u001b[43m \u001b[49m\u001b[43m+\u001b[49m\u001b[32;43m2\u001b[39;49m\n",
      "\u001b[31mTypeError\u001b[39m: unsupported operand type(s) for +: 'NoneType' and 'int'"
     ]
    }
   ],
   "source": [
    "a = test_3(5)\n",
    "a +2"
   ]
  },
  {
   "cell_type": "markdown",
   "id": "5562772d-f07b-45f4-95c0-26e89b47bb96",
   "metadata": {},
   "source": [
    "## 재귀함수 recursive function"
   ]
  },
  {
   "cell_type": "code",
   "execution_count": 6,
   "id": "76679061-434f-46d9-8e7f-89f38245e9da",
   "metadata": {},
   "outputs": [
    {
     "data": {
      "text/plain": [
       "120"
      ]
     },
     "execution_count": 6,
     "metadata": {},
     "output_type": "execute_result"
    }
   ],
   "source": [
    "def  factorial(n):\n",
    "    if n == 1 :\n",
    "        return n\n",
    "        \n",
    "    return n * factorial(n-1)\n",
    "\n",
    "factorial(5)    "
   ]
  },
  {
   "cell_type": "code",
   "execution_count": 16,
   "id": "f95b7b31-1b05-401f-8285-b5469073458f",
   "metadata": {},
   "outputs": [
    {
     "data": {
      "text/plain": [
       "[1, 2, 3, 4, 5]"
      ]
     },
     "execution_count": 16,
     "metadata": {},
     "output_type": "execute_result"
    }
   ],
   "source": [
    "[ i for i in filter(lambda a: a >0 ,[-1,-2,1,2,3,4,5]) ] "
   ]
  },
  {
   "cell_type": "code",
   "execution_count": null,
   "id": "60f6d625-3720-413b-830b-ed388ae07b61",
   "metadata": {},
   "outputs": [],
   "source": [
    "def even()\n"
   ]
  },
  {
   "cell_type": "code",
   "execution_count": 19,
   "id": "8744f7fc-4f9a-42d9-ba0d-c3604b5d87ed",
   "metadata": {},
   "outputs": [
    {
     "data": {
      "text/plain": [
       "[-2, 2, 4]"
      ]
     },
     "execution_count": 19,
     "metadata": {},
     "output_type": "execute_result"
    }
   ],
   "source": [
    "[ i for i in filter(lambda a : a % 2 == 0 ,[-1,-2,1,2,3,4,5])]"
   ]
  },
  {
   "cell_type": "code",
   "execution_count": 23,
   "id": "cede81ba-bbe4-4ea9-8803-f134dc87a103",
   "metadata": {},
   "outputs": [
    {
     "data": {
      "text/plain": [
       "[-6, -4, -2, 0, 2, 4, 6, 8, 10]"
      ]
     },
     "execution_count": 23,
     "metadata": {},
     "output_type": "execute_result"
    }
   ],
   "source": [
    "list(map(lambda a : a*2 , [-3,-2,-1,0,1,2,3,4,5]))"
   ]
  },
  {
   "cell_type": "code",
   "execution_count": 25,
   "id": "ed5f9904-df1d-4976-839a-9218653a9372",
   "metadata": {},
   "outputs": [
    {
     "data": {
      "text/plain": [
       "[1, 2, 3, 4, 5]"
      ]
     },
     "execution_count": 25,
     "metadata": {},
     "output_type": "execute_result"
    }
   ],
   "source": [
    "list(filter(lambda a: a >0 ,[-1,-2,1,2,3,4,5]))"
   ]
  },
  {
   "cell_type": "markdown",
   "id": "e827bae6-90ee-49c4-a3e7-1e8d124b7224",
   "metadata": {},
   "source": [
    "# 파일 읽기 쓰기 File IO\n",
    "- File IO\n"
   ]
  },
  {
   "cell_type": "code",
   "execution_count": 31,
   "id": "ec956506-0aa0-480f-be1c-cf2bd55d93e1",
   "metadata": {},
   "outputs": [],
   "source": [
    "f = open(\"test.txt\",mode='w')\n",
    "f.write(\"Hello\")\n",
    "f.close()"
   ]
  },
  {
   "cell_type": "code",
   "execution_count": 28,
   "id": "30d3d852-aead-489e-b1fa-06f944cac28b",
   "metadata": {},
   "outputs": [
    {
     "name": "stdout",
     "output_type": "stream",
     "text": [
      "Good moring\n"
     ]
    }
   ],
   "source": [
    "f = open(\"imsi.txt\",mode='r')\n",
    "print(f.readline())\n",
    "f.close()"
   ]
  },
  {
   "cell_type": "code",
   "execution_count": 36,
   "id": "3f91e229-ba94-41e2-be62-9508abe96926",
   "metadata": {},
   "outputs": [],
   "source": [
    "fi = open(\"test.txt\",'a')\n",
    "for i in range(10):\n",
    "    fi.write(\"\\nGood moring\")\n",
    "fi.close()"
   ]
  },
  {
   "cell_type": "markdown",
   "id": "2b693da9-c874-4f92-a86b-1e6ef84ada69",
   "metadata": {},
   "source": [
    "- with문 사용하기"
   ]
  },
  {
   "cell_type": "code",
   "execution_count": 37,
   "id": "8308d780-5797-448e-a32f-eb7f99ab62d9",
   "metadata": {},
   "outputs": [],
   "source": [
    "with open(\"test.txt\",\"w\") as f :\n",
    "    f.write(\"Hello\")"
   ]
  },
  {
   "cell_type": "code",
   "execution_count": 44,
   "id": "71abc200-a0ab-40e5-acec-094d351aca1d",
   "metadata": {},
   "outputs": [],
   "source": [
    "with open(\"test.txt\",\"a\") as f :\n",
    "    for i in range(10):\n",
    "        f.write(\"\\n Good moring\")"
   ]
  },
  {
   "cell_type": "markdown",
   "id": "7b2b1a1c-1cdc-418a-ac51-2a72e62b15a0",
   "metadata": {},
   "source": [
    "## 파일 읽기"
   ]
  },
  {
   "cell_type": "code",
   "execution_count": null,
   "id": "40e03f1b-e37d-4d25-a747-d70ec6d52f95",
   "metadata": {},
   "outputs": [],
   "source": [
    "f = open(\"test.txt\", mode=\"r\")\n",
    "r.read()"
   ]
  },
  {
   "cell_type": "code",
   "execution_count": 45,
   "id": "246d3db6-882f-43cf-a3a4-59aba2070a0f",
   "metadata": {},
   "outputs": [
    {
     "name": "stdout",
     "output_type": "stream",
     "text": [
      "\n",
      " Good moring\n",
      " Good moring\n",
      " Good moring\n",
      " Good moring\n",
      " Good moring\n",
      " Good moring\n",
      " Good moring\n",
      " Good moring\n",
      " Good moring\n",
      " Good moring\n"
     ]
    }
   ],
   "source": [
    "with open(\"test.txt\",\"r\") as f :\n",
    "    data = f.read()\n",
    "    print(data)"
   ]
  },
  {
   "cell_type": "markdown",
   "id": "501c1b7e-453b-440e-a694-6248a7774b7e",
   "metadata": {},
   "source": [
    "### 파일 읽기\n",
    "- f.read()\n",
    "- f.readline()"
   ]
  },
  {
   "cell_type": "code",
   "execution_count": 49,
   "id": "39c0a31b-2cb7-4edd-8b38-071fbe303863",
   "metadata": {},
   "outputs": [
    {
     "name": "stdout",
     "output_type": "stream",
     "text": [
      "['\\n', ' Good moring\\n', ' Good moring\\n', ' Good moring\\n', ' Good moring\\n', ' Good moring\\n', ' Good moring\\n', ' Good moring\\n', ' Good moring\\n', ' Good moring\\n', ' Good moring']"
     ]
    }
   ],
   "source": [
    "with open(\"test.txt\",\"r\") as f :\n",
    "    data = f.readlines()\n",
    "    print(data,end=\"\")"
   ]
  },
  {
   "cell_type": "code",
   "execution_count": 51,
   "id": "df825127-b8e4-471e-99fb-5f644b9159f5",
   "metadata": {},
   "outputs": [
    {
     "name": "stdout",
     "output_type": "stream",
     "text": [
      "\n",
      "\n"
     ]
    }
   ],
   "source": [
    "# f.readline()\n",
    "f = open(\"test.txt\",\"r\")\n",
    "data = f.readline()\n",
    "print(data)\n",
    "f.close()"
   ]
  },
  {
   "cell_type": "code",
   "execution_count": null,
   "id": "5e611a23-4df8-472a-9d2f-84786b27e005",
   "metadata": {},
   "outputs": [],
   "source": [
    "f = open(\"test.txt\",\"r\")\n",
    "while True:\n",
    "    line = f.readline()\n",
    "    if not line:\n",
    "        break\n",
    "    print(line, end=\"\")\n",
    "f.close()"
   ]
  },
  {
   "cell_type": "code",
   "execution_count": 5,
   "id": "a43456b9-d348-4812-bd3c-fd3d96baef1a",
   "metadata": {},
   "outputs": [],
   "source": [
    "with open(\"my_file.txt\",\"w\") as f4 :\n",
    "    f4.write(\"Hello\\n\")   \n",
    "    f4.write(\"Good moring\\n\")    \n",
    "    f4.write(\"afternoon\\n\")    \n",
    "    f4.write(\"evening\")    "
   ]
  },
  {
   "cell_type": "code",
   "execution_count": 9,
   "id": "8487c0aa-4a35-4b20-9c98-a6c39fb44168",
   "metadata": {},
   "outputs": [
    {
     "name": "stdout",
     "output_type": "stream",
     "text": [
      "Hello\n",
      "Good moring\n",
      "afternoon\n",
      "evening"
     ]
    }
   ],
   "source": [
    "with open(\"my_file.txt\",\"r\") as f2 :\n",
    "    while True :\n",
    "        line = f2.readline()\n",
    "        if not line:\n",
    "            break\n",
    "        print(line,end=\"\")"
   ]
  },
  {
   "cell_type": "code",
   "execution_count": 17,
   "id": "c3f3c2b5-5ba4-4abd-a7ce-639fbe81fb24",
   "metadata": {},
   "outputs": [],
   "source": [
    "def divide(a,b):\n",
    "    try:\n",
    "        result = a/b\n",
    "    except ZeroDivisionError as e:\n",
    "        result = e.with_traceback()\n",
    "    return result"
   ]
  },
  {
   "cell_type": "code",
   "execution_count": 19,
   "id": "41e770ae-3a63-472b-a4ef-c9370f8173e9",
   "metadata": {},
   "outputs": [
    {
     "data": {
      "text/plain": [
       "0.6666666666666666"
      ]
     },
     "execution_count": 19,
     "metadata": {},
     "output_type": "execute_result"
    }
   ],
   "source": [
    "divide(2,3)"
   ]
  },
  {
   "cell_type": "code",
   "execution_count": null,
   "id": "54891660-27c6-4ffa-bc78-680bf6502e53",
   "metadata": {},
   "outputs": [],
   "source": []
  }
 ],
 "metadata": {
  "kernelspec": {
   "display_name": "Python [conda env:base] *",
   "language": "python",
   "name": "conda-base-py"
  },
  "language_info": {
   "codemirror_mode": {
    "name": "ipython",
    "version": 3
   },
   "file_extension": ".py",
   "mimetype": "text/x-python",
   "name": "python",
   "nbconvert_exporter": "python",
   "pygments_lexer": "ipython3",
   "version": "3.12.7"
  }
 },
 "nbformat": 4,
 "nbformat_minor": 5
}
