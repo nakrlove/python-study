{
 "cells": [
  {
   "cell_type": "code",
   "execution_count": 48,
   "id": "b140000a-a98f-427c-9a32-556aca04817e",
   "metadata": {},
   "outputs": [
    {
     "name": "stdout",
     "output_type": "stream",
     "text": [
      "30\n"
     ]
    }
   ],
   "source": [
    "person = {\n",
    "    \"name\": \"John\",\n",
    "    \"age\":30,\n",
    "    \"city\":\"New York\"\n",
    "}\n",
    "\n",
    "tupleDatas = [ \n",
    "                       (\"A\",[1,2,3,4]) ,\n",
    "                       (\"B\",person) , \n",
    "                       (\"Language\",\"Python\")\n",
    "]\n",
    "\n",
    "\n",
    "(_,td) = tupleDatas[1]\n",
    "\n",
    "print(td['age'])\n"
   ]
  },
  {
   "cell_type": "code",
   "execution_count": 56,
   "id": "8cdf837b-12d6-46d6-bb4f-68daee7727ba",
   "metadata": {},
   "outputs": [
    {
     "name": "stdin",
     "output_type": "stream",
     "text": [
      "출력할 구구단 숫자를 입력해 주세요 4\n"
     ]
    },
    {
     "name": "stdout",
     "output_type": "stream",
     "text": [
      " ##### 4단 ###### \n",
      " 4 X 1 = 4\n",
      " 4 X 2 = 8\n",
      " 4 X 3 = 12\n",
      " 4 X 4 = 16\n",
      " 4 X 5 = 20\n",
      " 4 X 6 = 24\n",
      " 4 X 7 = 28\n",
      " 4 X 8 = 32\n",
      " 4 X 9 = 36\n"
     ]
    }
   ],
   "source": [
    "multiplication = int(input(\"출력할 구구단 숫자를 입력해 주세요\"))\n",
    "print(f\" ##### {multiplication}단 ###### \")\n",
    "\n",
    "for num in range(1, 10):\n",
    "    print(f\" {multiplication} X {num} = { multiplication * num }\")"
   ]
  },
  {
   "cell_type": "code",
   "execution_count": null,
   "id": "74ed7ba8-a880-4efb-a644-0709c0079013",
   "metadata": {},
   "outputs": [
    {
     "name": "stdin",
     "output_type": "stream",
     "text": [
      " \n",
      "    (1) ~ (2)가 아닌 값은 입력값 체크후 입력 타입을 출력할 것 입니다.\n",
      "\n",
      "    (1) 프로그램 종료 : X\n",
      "    (2) \"감사합니다.\" 출력 : T  \n",
      "    선택값을 입력해 주세요\n",
      " ㄴㅇ\n"
     ]
    },
    {
     "name": "stdout",
     "output_type": "stream",
     "text": [
      "문자입니다.\n"
     ]
    }
   ],
   "source": [
    "word = \"\"\" \n",
    "    (1) ~ (2)가 아닌 값은 입력값 체크후 입력 타입을 출력할 것 입니다.\n",
    "        \n",
    "    (1) 프로그램 종료 : X\n",
    "    (2) \"감사합니다.\" 출력 : T  \n",
    "    선택값을 입력해 주세요\n",
    "\"\"\"\n",
    "\n",
    "while  True :\n",
    "    read = input(word)\n",
    "    if read == \"X\" :\n",
    "        exit()\n",
    "    elif read == \"T\": \n",
    "        print(\"감사합니다.\")\n",
    "        break\n",
    "    else: \n",
    "\n",
    "\n",
    "            if read.isdigit():\n",
    "                print(\"정수입니다.\")\n",
    "            elif read.isalpha():\n",
    "                print(\"문자입니다.\")\n",
    "            elif read.isalnum():\n",
    "                print(\"문자와 숫자가 섞여 있습니다.\")\n",
    "            else:\n",
    "                \n",
    "            \n",
    "                if read.isdigit():\n",
    "                    print(\"정수입니다.\")\n",
    "                    break \n",
    "                elif read.isalpha():\n",
    "                    print(\"문자입니다.\")\n",
    "                    break \n",
    "                elif read.isalnum():\n",
    "                    print(\"문자와 숫자가 섞여 있습니다.\")\n",
    "                    break\n",
    "                else:\n",
    "                    print(\"다시 입력해 주세요\")\n",
    "                    \n",
    "              \n",
    "         \n",
    "            "
   ]
  },
  {
   "cell_type": "code",
   "execution_count": null,
   "id": "b91b27d8-1e16-4c3b-b8ec-890933a448a7",
   "metadata": {},
   "outputs": [],
   "source": []
  },
  {
   "cell_type": "code",
   "execution_count": 7,
   "id": "7634647a-9fa7-4465-9909-6109d6b6a183",
   "metadata": {},
   "outputs": [
    {
     "name": "stdin",
     "output_type": "stream",
     "text": [
      "비밀번호를 입력하세요:  ㄴㅇ\n"
     ]
    },
    {
     "name": "stdout",
     "output_type": "stream",
     "text": [
      "비밀번호가 올바르지 않습니다. 다시 시도해주세요.\n"
     ]
    },
    {
     "name": "stdin",
     "output_type": "stream",
     "text": [
      "비밀번호를 입력하세요:  ㅈㅇ\n"
     ]
    },
    {
     "name": "stdout",
     "output_type": "stream",
     "text": [
      "비밀번호가 올바르지 않습니다. 다시 시도해주세요.\n"
     ]
    },
    {
     "name": "stdin",
     "output_type": "stream",
     "text": [
      "비밀번호를 입력하세요:  secret123\n"
     ]
    },
    {
     "name": "stdout",
     "output_type": "stream",
     "text": [
      "비밀번호가 확인되었습니다.\n"
     ]
    }
   ],
   "source": [
    "while True:\n",
    "    read = input(\"비밀번호를 입력하세요: \")\n",
    "    if read == \"secret123\":\n",
    "        print(\"비밀번호가 확인되었습니다.\")\n",
    "        break\n",
    "    else:\n",
    "        print(\"비밀번호가 올바르지 않습니다. 다시 시도해주세요.\")"
   ]
  },
  {
   "cell_type": "code",
   "execution_count": null,
   "id": "4cd96602-2967-4173-8e2c-06cedfe91ed5",
   "metadata": {},
   "outputs": [],
   "source": [
    "scores = [95,82,67,58,76]\n",
    "\n",
    "for score in scores:\n",
    "    if score >= 90 :\n",
    "        print(f\"{score}은 A 입니다.\")\n",
    "    elif score >= 80 :\n",
    "        print(f\"{score}은 B 입니다.\")\n",
    "     \n",
    "    elif score >= 70 :\n",
    "        print(f\"{score}은 C 입니다.\")\n",
    "    elif score >= 60 :\n",
    "        print(f\"{score}은 D 입니다.\")\n",
    "    else :\n",
    "        print(\"나머지:F\")\n",
    "        "
   ]
  }
 ],
 "metadata": {
  "kernelspec": {
   "display_name": "Python 3 (ipykernel)",
   "language": "python",
   "name": "python3"
  },
  "language_info": {
   "codemirror_mode": {
    "name": "ipython",
    "version": 3
   },
   "file_extension": ".py",
   "mimetype": "text/x-python",
   "name": "python",
   "nbconvert_exporter": "python",
   "pygments_lexer": "ipython3",
   "version": "3.13.3"
  }
 },
 "nbformat": 4,
 "nbformat_minor": 5
}
