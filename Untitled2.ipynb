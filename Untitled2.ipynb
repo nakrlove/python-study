{
 "cells": [
  {
   "cell_type": "code",
   "execution_count": 13,
   "id": "fd4e3511-e6fa-48a8-b524-8904d4d04ca7",
   "metadata": {},
   "outputs": [],
   "source": [
    "from enum import Enum\n",
    "class Constant(Enum):\n",
    "    PI = 3.14159\n",
    "    GRAVITY = 9.8"
   ]
  },
  {
   "cell_type": "code",
   "execution_count": 14,
   "id": "2d90c6ad-0d10-4e80-84a7-c6b6371cb7fa",
   "metadata": {},
   "outputs": [],
   "source": [
    "PI =2"
   ]
  },
  {
   "cell_type": "code",
   "execution_count": 15,
   "id": "52598642-e812-4db2-801a-e4a7d6286fd2",
   "metadata": {},
   "outputs": [
    {
     "name": "stdout",
     "output_type": "stream",
     "text": [
      "2\n"
     ]
    }
   ],
   "source": [
    "print(PI)"
   ]
  },
  {
   "cell_type": "code",
   "execution_count": 17,
   "id": "815e7c6d-4c88-4572-a258-530f637992b5",
   "metadata": {},
   "outputs": [
    {
     "name": "stdout",
     "output_type": "stream",
     "text": [
      "3.14159\n"
     ]
    },
    {
     "ename": "AttributeError",
     "evalue": "<enum 'Enum'> cannot set attribute 'value'",
     "output_type": "error",
     "traceback": [
      "\u001b[31m---------------------------------------------------------------------------\u001b[39m",
      "\u001b[31mAttributeError\u001b[39m                            Traceback (most recent call last)",
      "\u001b[36mCell\u001b[39m\u001b[36m \u001b[39m\u001b[32mIn[17]\u001b[39m\u001b[32m, line 2\u001b[39m\n\u001b[32m      1\u001b[39m \u001b[38;5;28mprint\u001b[39m(Constant.PI.value)\n\u001b[32m----> \u001b[39m\u001b[32m2\u001b[39m \u001b[43mConstant\u001b[49m\u001b[43m.\u001b[49m\u001b[43mPI\u001b[49m\u001b[43m.\u001b[49m\u001b[43mvalue\u001b[49m = \u001b[32m44\u001b[39m\n",
      "\u001b[36mFile \u001b[39m\u001b[32mC:\\Program Files\\WindowsApps\\PythonSoftwareFoundation.Python.3.13_3.13.1008.0_x64__qbz5n2kfra8p0\\Lib\\enum.py:227\u001b[39m, in \u001b[36mproperty.__set__\u001b[39m\u001b[34m(self, instance, value)\u001b[39m\n\u001b[32m    225\u001b[39m \u001b[38;5;28;01mif\u001b[39;00m \u001b[38;5;28mself\u001b[39m.fset \u001b[38;5;129;01mis\u001b[39;00m \u001b[38;5;129;01mnot\u001b[39;00m \u001b[38;5;28;01mNone\u001b[39;00m:\n\u001b[32m    226\u001b[39m     \u001b[38;5;28;01mreturn\u001b[39;00m \u001b[38;5;28mself\u001b[39m.fset(instance, value)\n\u001b[32m--> \u001b[39m\u001b[32m227\u001b[39m \u001b[38;5;28;01mraise\u001b[39;00m \u001b[38;5;167;01mAttributeError\u001b[39;00m(\n\u001b[32m    228\u001b[39m         \u001b[33m\"\u001b[39m\u001b[33m<enum \u001b[39m\u001b[38;5;132;01m%r\u001b[39;00m\u001b[33m> cannot set attribute \u001b[39m\u001b[38;5;132;01m%r\u001b[39;00m\u001b[33m\"\u001b[39m % (\u001b[38;5;28mself\u001b[39m.clsname, \u001b[38;5;28mself\u001b[39m.name)\n\u001b[32m    229\u001b[39m         )\n",
      "\u001b[31mAttributeError\u001b[39m: <enum 'Enum'> cannot set attribute 'value'"
     ]
    }
   ],
   "source": [
    "print(Constant.PI.value)\n",
    "Constant.PI.value = 44"
   ]
  },
  {
   "cell_type": "code",
   "execution_count": 19,
   "id": "e229fa5e-bf1e-4651-94dd-b810163020d8",
   "metadata": {},
   "outputs": [],
   "source": [
    "class Constant1:\n",
    "    _PI = 3.14159\n",
    "    _GRAVITY = 9.8\n",
    "\n",
    "    @property\n",
    "    def PI(self):\n",
    "        return self._PI\n",
    "\n",
    "    @property\n",
    "    def GRAVITY(self):\n",
    "        return self._GRAVITY\n",
    "\n",
    "    def _setattr_(self,key,value):\n",
    "        raise AttributeError(\"Cannot modify a constant value\")"
   ]
  },
  {
   "cell_type": "code",
   "execution_count": 20,
   "id": "ceab04d7-3b33-42bc-bd3f-aac271fbd7a8",
   "metadata": {},
   "outputs": [
    {
     "name": "stdout",
     "output_type": "stream",
     "text": [
      "3.14159\n"
     ]
    }
   ],
   "source": [
    "c = Constant1()\n",
    "print(c.PI)"
   ]
  },
  {
   "cell_type": "code",
   "execution_count": 21,
   "id": "956c5016-944d-4b0b-a66b-1577b849d503",
   "metadata": {},
   "outputs": [
    {
     "ename": "AttributeError",
     "evalue": "property 'PI' of 'Constant1' object has no setter",
     "output_type": "error",
     "traceback": [
      "\u001b[31m---------------------------------------------------------------------------\u001b[39m",
      "\u001b[31mAttributeError\u001b[39m                            Traceback (most recent call last)",
      "\u001b[36mCell\u001b[39m\u001b[36m \u001b[39m\u001b[32mIn[21]\u001b[39m\u001b[32m, line 1\u001b[39m\n\u001b[32m----> \u001b[39m\u001b[32m1\u001b[39m \u001b[43mc\u001b[49m\u001b[43m.\u001b[49m\u001b[43mPI\u001b[49m = \u001b[32m3\u001b[39m\n",
      "\u001b[31mAttributeError\u001b[39m: property 'PI' of 'Constant1' object has no setter"
     ]
    }
   ],
   "source": [
    "c.PI = 3"
   ]
  },
  {
   "cell_type": "code",
   "execution_count": 22,
   "id": "2de66cab-456f-45aa-bcce-61458e9823d5",
   "metadata": {},
   "outputs": [],
   "source": [
    "fruits = {\"apple\", \"banana\", \"orange\", \"apple\", \"banana\", \"grape\"}"
   ]
  },
  {
   "cell_type": "code",
   "execution_count": 23,
   "id": "f8384480-6a21-4506-a01f-76dcd2931493",
   "metadata": {},
   "outputs": [
    {
     "name": "stdout",
     "output_type": "stream",
     "text": [
      "{'banana', 'apple', 'grape', 'orange'}\n"
     ]
    }
   ],
   "source": [
    "print(fruits)"
   ]
  },
  {
   "cell_type": "code",
   "execution_count": 4,
   "id": "0afcd339-0ad9-44cb-ac18-1aca78fd2a0e",
   "metadata": {},
   "outputs": [
    {
     "data": {
      "text/plain": [
       "5"
      ]
     },
     "execution_count": 4,
     "metadata": {},
     "output_type": "execute_result"
    }
   ],
   "source": [
    "a = \"Good Morning\"\n",
    "a.find(\"M\")\n",
    "a.index(\"M\")"
   ]
  },
  {
   "cell_type": "code",
   "execution_count": 7,
   "id": "15eb592b-9e92-4000-a2a4-301440bda1d0",
   "metadata": {},
   "outputs": [
    {
     "name": "stdin",
     "output_type": "stream",
     "text": [
      "첫번째 숫자를 입력하세요: 1\n",
      "두번째 숫자를 입력하세요: 2\n"
     ]
    },
    {
     "data": {
      "text/plain": [
       "0.5"
      ]
     },
     "execution_count": 7,
     "metadata": {},
     "output_type": "execute_result"
    }
   ],
   "source": [
    "a = input(\"첫번째 숫자를 입력하세요:\")\n",
    "b = input(\"두번째 숫자를 입력하세요:\")\n",
    "result = int(a) + int(b)\n",
    "result = int(a) - int(b)\n",
    "result = int(a) * int(b)\n",
    "result = int(a) / int(b)\n",
    "result"
   ]
  },
  {
   "cell_type": "code",
   "execution_count": 16,
   "id": "e43ee161-e30b-4536-928c-7056a47f4c91",
   "metadata": {},
   "outputs": [
    {
     "data": {
      "text/plain": [
       "'hit '"
      ]
     },
     "execution_count": 16,
     "metadata": {},
     "output_type": "execute_result"
    }
   ],
   "source": [
    "text = \"i want to go home\"\n",
    "\n",
    "text[-4] +  text[0] + text[5] + text[6]\n",
    "#text["
   ]
  },
  {
   "cell_type": "code",
   "execution_count": 22,
   "id": "20641c76-d50b-47f1-be93-39366b52c97c",
   "metadata": {},
   "outputs": [
    {
     "data": {
      "text/plain": [
       "'1'"
      ]
     },
     "execution_count": 22,
     "metadata": {},
     "output_type": "execute_result"
    }
   ],
   "source": [
    "a = \"950716-1234567\"\n",
    "r = a.split(\"-\")\n",
    "r[1][0]"
   ]
  },
  {
   "cell_type": "code",
   "execution_count": 31,
   "id": "95c463d8-db5e-4e96-82cc-df96829c96d9",
   "metadata": {},
   "outputs": [
    {
     "ename": "AttributeError",
     "evalue": "'NoneType' object has no attribute 'remove'",
     "output_type": "error",
     "traceback": [
      "\u001b[31m---------------------------------------------------------------------------\u001b[39m",
      "\u001b[31mAttributeError\u001b[39m                            Traceback (most recent call last)",
      "\u001b[36mCell\u001b[39m\u001b[36m \u001b[39m\u001b[32mIn[31]\u001b[39m\u001b[32m, line 2\u001b[39m\n\u001b[32m      1\u001b[39m l = [\u001b[32m610\u001b[39m, \u001b[33m\"\u001b[39m\u001b[33m오늘\u001b[39m\u001b[33m\"\u001b[39m, \u001b[32m3\u001b[39m, \u001b[33m\"\u001b[39m\u001b[33m수업\u001b[39m\u001b[33m\"\u001b[39m, \u001b[33m\"\u001b[39m\u001b[33m커피\u001b[39m\u001b[33m\"\u001b[39m]\n\u001b[32m----> \u001b[39m\u001b[32m2\u001b[39m \u001b[43m(\u001b[49m\u001b[43ml\u001b[49m\u001b[43m.\u001b[49m\u001b[43mappend\u001b[49m\u001b[43m(\u001b[49m\u001b[33;43m\"\u001b[39;49m\u001b[33;43m화이팅\u001b[39;49m\u001b[33;43m\"\u001b[39;49m\u001b[43m)\u001b[49m\u001b[43m)\u001b[49m\u001b[43m.\u001b[49m\u001b[43mremove\u001b[49m(\u001b[33m\"\u001b[39m\u001b[33m커피\u001b[39m\u001b[33m\"\u001b[39m)\n",
      "\u001b[31mAttributeError\u001b[39m: 'NoneType' object has no attribute 'remove'"
     ]
    }
   ],
   "source": [
    "l = [610, \"오늘\", 3, \"수업\", \"커피\"]\n",
    "(l.append(\"화이팅\")).remove(\"커피\")"
   ]
  },
  {
   "cell_type": "code",
   "execution_count": 25,
   "id": "a75a8b47-f842-4d68-9509-240090915568",
   "metadata": {},
   "outputs": [
    {
     "data": {
      "text/plain": [
       "[610, '오늘', 3, '수업', '커피', '화이팅']"
      ]
     },
     "execution_count": 25,
     "metadata": {},
     "output_type": "execute_result"
    }
   ],
   "source": [
    "l"
   ]
  },
  {
   "cell_type": "code",
   "execution_count": 26,
   "id": "eade03cc-6257-49ad-8b53-255a0b14778b",
   "metadata": {},
   "outputs": [],
   "source": [
    "l.remove(\"커피\")"
   ]
  },
  {
   "cell_type": "code",
   "execution_count": 27,
   "id": "e731c712-387c-41b0-8c29-4e91bb1ff022",
   "metadata": {},
   "outputs": [
    {
     "data": {
      "text/plain": [
       "[610, '오늘', 3, '수업', '화이팅']"
      ]
     },
     "execution_count": 27,
     "metadata": {},
     "output_type": "execute_result"
    }
   ],
   "source": [
    "l"
   ]
  },
  {
   "cell_type": "code",
   "execution_count": 32,
   "id": "4e48d133-8ef9-4eb3-8910-1b2eddfd827d",
   "metadata": {},
   "outputs": [
    {
     "name": "stdin",
     "output_type": "stream",
     "text": [
      "이름을 입력해주세요 ddd\n"
     ]
    },
    {
     "name": "stdout",
     "output_type": "stream",
     "text": [
      " 안녕하세요 ddd 수강생님!\n"
     ]
    }
   ],
   "source": [
    "r = input(\"이름을 입력해주세요\")\n",
    "print(\" 안녕하세요 {} 수강생님!\".format(r[0]))"
   ]
  },
  {
   "cell_type": "code",
   "execution_count": 49,
   "id": "ace62f8f-9526-4722-bbea-16145c887971",
   "metadata": {},
   "outputs": [
    {
     "name": "stdout",
     "output_type": "stream",
     "text": [
      "Python은   획기적인 언어이다\n",
      "C는   오래된 언어이다\n",
      "JAVA는   장기간 보편적으로 활용된 언어였다\n"
     ]
    }
   ],
   "source": [
    "a = \"Python은 최신이고 획기적인 언어이다\"\n",
    "b = \"C는 상당히 낡았고 오래된 언어이다\"\n",
    "c = \"JAVA는 현재까지도 많이 쓰이고, 장기간 보편적으로 활용된 언어였다\" \n",
    "\n",
    "\n",
    "print(a.replace(\"최신이고\", \" \"))\n",
    "print(b.replace(\"상당히 낡았고\", \" \"))\n",
    "print(c.replace(\"현재까지도 많이 쓰이고,\", \" \"))\n",
    "#b.remove(\"상당히 낡았고\")\n",
    "#c.remove(\"현재까지도 많이 쓰이고,\")\n",
    "\n"
   ]
  },
  {
   "cell_type": "code",
   "execution_count": 54,
   "id": "fb3c22a9-cc13-451d-a795-03da17d1c443",
   "metadata": {},
   "outputs": [
    {
     "name": "stdout",
     "output_type": "stream",
     "text": [
      "Python은   획기적인 언어이다\n",
      "C는   오래된 언어이다\n",
      "JAVA는   장기간 보편적으로 활용된 언어였다\n"
     ]
    }
   ],
   "source": [
    "a = \"Python은 최신이고 획기적인 언어이다\".replace(\"최신이고\", \" \")\n",
    "b = \"C는 상당히 낡았고 오래된 언어이다\".replace(\"상당히 낡았고\", \" \")\n",
    "c = \"JAVA는 현재까지도 많이 쓰이고, 장기간 보편적으로 활용된 언어였다\".replace(\"현재까지도 많이 쓰이고,\", \" \") \n",
    "print(a +\"\\n\" + b+\"\\n\"+c)"
   ]
  },
  {
   "cell_type": "code",
   "execution_count": 68,
   "id": "4b07de38-33e7-4ebd-9de9-3c27080cdb7f",
   "metadata": {},
   "outputs": [
    {
     "name": "stdout",
     "output_type": "stream",
     "text": [
      "{'Hot': ['Hot', 'Americano', 'Frappe'], 'Cold': 'Brew', 'Blend': 'Latte', 'Brew': 'Tea', 'Cool': 'Cocktail'} \n",
      " Frappe = e\n"
     ]
    }
   ],
   "source": [
    "a = {\"Ice\" : 'Americano', \"Hot\" : 'Espresso', \"Cold\" : 'Brew', \"Blend\" : 'Latte'} \n",
    "a['Brew'] = \"Tea\"\n",
    "a[\"Cool\"] = \"Cocktail\"\n",
    "del(a[\"Ice\"])\n",
    "a[\"Hot\"] = [\"Hot\",\"Americano\",\"Frappe\"]\n",
    "r = a[\"Hot\"]\n",
    "print(f\"{a} \\n Frappe = {r[2][-1]}\")"
   ]
  },
  {
   "cell_type": "code",
   "execution_count": null,
   "id": "7ec4dcba-a46c-4b96-9c1c-3b5e14104a05",
   "metadata": {},
   "outputs": [],
   "source": []
  }
 ],
 "metadata": {
  "kernelspec": {
   "display_name": "Python 3 (ipykernel)",
   "language": "python",
   "name": "python3"
  },
  "language_info": {
   "codemirror_mode": {
    "name": "ipython",
    "version": 3
   },
   "file_extension": ".py",
   "mimetype": "text/x-python",
   "name": "python",
   "nbconvert_exporter": "python",
   "pygments_lexer": "ipython3",
   "version": "3.13.3"
  }
 },
 "nbformat": 4,
 "nbformat_minor": 5
}
