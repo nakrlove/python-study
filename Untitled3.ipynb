{
 "cells": [
  {
   "cell_type": "code",
   "execution_count": 1,
   "id": "3cba4a83-d833-42fb-a18f-b929cfdac3a0",
   "metadata": {},
   "outputs": [
    {
     "name": "stdout",
     "output_type": "stream",
     "text": [
      "95은 A 입니다.\n",
      "82은 B 입니다.\n",
      "67은 D 입니다.\n",
      "나머지:F\n",
      "76은 C 입니다.\n"
     ]
    }
   ],
   "source": [
    "scores = [95,82,67,58,76]\n",
    "\n",
    "for score in scores:\n",
    "    if score >= 90 :\n",
    "        print(f\"{score}은 A 입니다.\")\n",
    "    elif score >= 80 :\n",
    "        print(f\"{score}은 B 입니다.\")\n",
    "     \n",
    "    elif score >= 70 :\n",
    "        print(f\"{score}은 C 입니다.\")\n",
    "    elif score >= 60 :\n",
    "        print(f\"{score}은 D 입니다.\")\n",
    "    else :\n",
    "        print(\"나머지:F\")\n",
    "        "
   ]
  },
  {
   "cell_type": "code",
   "execution_count": 19,
   "id": "1a119123-87a8-4f24-a231-c8ada40f9352",
   "metadata": {},
   "outputs": [
    {
     "name": "stdout",
     "output_type": "stream",
     "text": [
      " ******\n",
      "  *****\n",
      "   ****\n",
      "    ***\n",
      "     **\n"
     ]
    }
   ],
   "source": [
    "for i in range (1,6):\n",
    "    print(\" \"*i + \"*\" + \"*\"*(6-i))"
   ]
  },
  {
   "cell_type": "code",
   "execution_count": 21,
   "id": "4c1d5942-77ec-47b3-b764-d300112d4e19",
   "metadata": {},
   "outputs": [
    {
     "name": "stdout",
     "output_type": "stream",
     "text": [
      "     *\n",
      "    ***\n",
      "   *****\n",
      "  *******\n",
      " *********\n",
      "     *\n",
      "    ***\n",
      "   *****\n",
      "  *******\n",
      " *********\n"
     ]
    }
   ],
   "source": [
    "for i in range(1,6):\n",
    "    print(\" \"*(6-i) + \"*\"*(2*i-1))\n",
    "\n",
    "for i in range(1,6):\n",
    "    print(\" \"*(6-i) + \"*\"*(2*i-1))    "
   ]
  },
  {
   "cell_type": "code",
   "execution_count": 22,
   "id": "e4d2da54-c31a-4e2b-b4a4-25cc8f06b1a1",
   "metadata": {},
   "outputs": [],
   "source": [
    "a = [610, \"오늘\", 3, \"수업\", \"커피\"] \n",
    "a.append(\"화이팅\")\n"
   ]
  },
  {
   "cell_type": "code",
   "execution_count": 23,
   "id": "8a0532f1-a0b2-4d6f-85d0-4d0dfc7e2403",
   "metadata": {},
   "outputs": [
    {
     "data": {
      "text/plain": [
       "[610, '오늘', 3, '수업', '커피', '화이팅']"
      ]
     },
     "execution_count": 23,
     "metadata": {},
     "output_type": "execute_result"
    }
   ],
   "source": [
    "a"
   ]
  },
  {
   "cell_type": "code",
   "execution_count": 33,
   "id": "549aebad-0219-436d-ac60-49af52394811",
   "metadata": {},
   "outputs": [
    {
     "name": "stdout",
     "output_type": "stream",
     "text": [
      "[0, 2, 4, 6, 8]\n",
      "[1, 3, 5, 7, 9]\n"
     ]
    }
   ],
   "source": [
    "li1 = []\n",
    "li2 = []\n",
    "for i in range(0,10) :\n",
    "    if i % 2 == 0 :\n",
    "        li1.append(i)\n",
    "    else :\n",
    "        li2.append(i)\n",
    "\n",
    "print(li1)\n",
    "print(li2)"
   ]
  },
  {
   "cell_type": "code",
   "execution_count": 29,
   "id": "1ba48160-53e1-4a59-a51f-e6467b75df26",
   "metadata": {},
   "outputs": [
    {
     "data": {
      "text/plain": [
       "[0, 2, 4, 6, 8]"
      ]
     },
     "execution_count": 29,
     "metadata": {},
     "output_type": "execute_result"
    }
   ],
   "source": [
    "li"
   ]
  },
  {
   "cell_type": "code",
   "execution_count": 35,
   "id": "789a0213-9d59-43a4-847c-ffe65d04101f",
   "metadata": {},
   "outputs": [],
   "source": [
    "list2 = ['soccer','basketball','baseball'] \n",
    "list2.insert(2,\"foot ball\")"
   ]
  },
  {
   "cell_type": "code",
   "execution_count": 36,
   "id": "34f19f3c-6511-43e3-ab03-2c21058decac",
   "metadata": {},
   "outputs": [
    {
     "data": {
      "text/plain": [
       "['soccer', 'basketball', 'foot ball', 'baseball']"
      ]
     },
     "execution_count": 36,
     "metadata": {},
     "output_type": "execute_result"
    }
   ],
   "source": [
    "list2"
   ]
  },
  {
   "cell_type": "code",
   "execution_count": 40,
   "id": "f25891d0-4bba-4507-9ac3-70ecefed1e4e",
   "metadata": {},
   "outputs": [
    {
     "data": {
      "text/plain": [
       "0"
      ]
     },
     "execution_count": 40,
     "metadata": {},
     "output_type": "execute_result"
    }
   ],
   "source": [
    "#list2.remove(\"foot ball\")\n",
    "list2.index('soccer')"
   ]
  },
  {
   "cell_type": "code",
   "execution_count": 41,
   "id": "d20e4ac8-d166-4125-9b96-ca937eea8458",
   "metadata": {},
   "outputs": [
    {
     "ename": "ValueError",
     "evalue": "list.remove(x): x not in list",
     "output_type": "error",
     "traceback": [
      "\u001b[31m---------------------------------------------------------------------------\u001b[39m",
      "\u001b[31mValueError\u001b[39m                                Traceback (most recent call last)",
      "\u001b[36mCell\u001b[39m\u001b[36m \u001b[39m\u001b[32mIn[41]\u001b[39m\u001b[32m, line 1\u001b[39m\n\u001b[32m----> \u001b[39m\u001b[32m1\u001b[39m \u001b[43mlist2\u001b[49m\u001b[43m.\u001b[49m\u001b[43mremove\u001b[49m\u001b[43m(\u001b[49m\u001b[32;43m1\u001b[39;49m\u001b[43m)\u001b[49m\n",
      "\u001b[31mValueError\u001b[39m: list.remove(x): x not in list"
     ]
    }
   ],
   "source": [
    "list2.remove(1)"
   ]
  },
  {
   "cell_type": "code",
   "execution_count": 45,
   "id": "49f2156c-0f60-4af1-818a-f2a2273c33a9",
   "metadata": {},
   "outputs": [
    {
     "name": "stdin",
     "output_type": "stream",
     "text": [
      "출력할 구구단 숫자를 입력해 주세요 5\n"
     ]
    },
    {
     "name": "stdout",
     "output_type": "stream",
     "text": [
      " ##### 5단 ###### \n",
      " 5 X 1 = 5\n",
      " 5 X 2 = 10\n",
      " 5 X 3 = 15\n",
      " 5 X 4 = 20\n",
      " 5 X 5 = 25\n",
      " 5 X 6 = 30\n",
      " 5 X 7 = 35\n",
      " 5 X 8 = 40\n",
      " 5 X 9 = 45\n"
     ]
    }
   ],
   "source": [
    "multiplication = int(input(\"출력할 구구단 숫자를 입력해 주세요\"))\n",
    "print(f\" ##### {multiplication}단 ###### \")\n",
    "\n",
    "for num in range(1, 10):\n",
    "    print(f\" {multiplication} X {num} = { multiplication * num }\")\n",
    "\n"
   ]
  },
  {
   "cell_type": "code",
   "execution_count": null,
   "id": "6fe55914-300f-40de-90e3-9c38a8631db5",
   "metadata": {},
   "outputs": [],
   "source": []
  },
  {
   "cell_type": "code",
   "execution_count": 47,
   "id": "72fdf9cd-198e-4dd2-a500-ae202a307f71",
   "metadata": {},
   "outputs": [],
   "source": [
    "li = [(\"영희\",50), (\"똘희\",90), (\"길동\",100), (\"돌비\", 30), (\"철수\", 68), (\"풍자\",81)] \n",
    "\n",
    "names = []\n",
    "for (name,jumsu) in li:\n",
    "    if jumsu > 60 :\n",
    "        names.append(name)"
   ]
  },
  {
   "cell_type": "code",
   "execution_count": 48,
   "id": "c146c3ad-e410-438b-a89c-5ff37bda465d",
   "metadata": {},
   "outputs": [
    {
     "data": {
      "text/plain": [
       "['똘희', '길동', '철수', '풍자']"
      ]
     },
     "execution_count": 48,
     "metadata": {},
     "output_type": "execute_result"
    }
   ],
   "source": [
    "names"
   ]
  },
  {
   "cell_type": "code",
   "execution_count": 2,
   "id": "26fb56b2-cebd-400b-86c8-b57268c12ef9",
   "metadata": {},
   "outputs": [
    {
     "name": "stdout",
     "output_type": "stream",
     "text": [
      "커피 : 3\n",
      "빵 : 2\n",
      "초콜릿 : 5\n",
      "도시락 : 7\n"
     ]
    }
   ],
   "source": [
    "food = {'커피': 3, '빵' : 2, '초콜릿': 5, '도시락': 7 } \n",
    "\n",
    "for key in food:\n",
    "    print(f\"{key} : {food[key]}\")\n"
   ]
  },
  {
   "cell_type": "code",
   "execution_count": 8,
   "id": "05c7eec9-471f-47b9-8f27-34f43a90e8ea",
   "metadata": {},
   "outputs": [
    {
     "name": "stdin",
     "output_type": "stream",
     "text": [
      "문자를 입력해 주세요 we\n"
     ]
    },
    {
     "data": {
      "text/plain": [
       "False"
      ]
     },
     "execution_count": 8,
     "metadata": {},
     "output_type": "execute_result"
    }
   ],
   "source": [
    "word = input(\"문자를 입력해 주세요\")\n",
    "word.upper()\n",
    "word."
   ]
  },
  {
   "cell_type": "code",
   "execution_count": 33,
   "id": "13f5e1ce-195d-4d69-8d7d-d477121f2561",
   "metadata": {},
   "outputs": [],
   "source": [
    "def UpperString(word) :\n",
    "   if word is None:\n",
    "       print(\"문자 입력이 필요합니다.\")\n",
    "       return\n",
    "\n",
    "   print(\"문자 입력이 필요합니다.1111\")    \n",
    "   return word.upper()"
   ]
  },
  {
   "cell_type": "code",
   "execution_count": 34,
   "id": "7504bd60-c3e8-4677-97bb-2d041ad86981",
   "metadata": {},
   "outputs": [
    {
     "name": "stdout",
     "output_type": "stream",
     "text": [
      "문자 입력이 필요합니다.1111\n"
     ]
    },
    {
     "data": {
      "text/plain": [
       "'DS'"
      ]
     },
     "execution_count": 34,
     "metadata": {},
     "output_type": "execute_result"
    }
   ],
   "source": [
    "UpperString(\"ds\")"
   ]
  },
  {
   "cell_type": "code",
   "execution_count": 35,
   "id": "ba393603-2f23-4608-b75d-d9570334b238",
   "metadata": {},
   "outputs": [
    {
     "ename": "TypeError",
     "evalue": "UpperString() missing 1 required positional argument: 'word'",
     "output_type": "error",
     "traceback": [
      "\u001b[31m---------------------------------------------------------------------------\u001b[39m",
      "\u001b[31mTypeError\u001b[39m                                 Traceback (most recent call last)",
      "\u001b[36mCell\u001b[39m\u001b[36m \u001b[39m\u001b[32mIn[35]\u001b[39m\u001b[32m, line 1\u001b[39m\n\u001b[32m----> \u001b[39m\u001b[32m1\u001b[39m \u001b[43mUpperString\u001b[49m\u001b[43m(\u001b[49m\u001b[43m)\u001b[49m\n",
      "\u001b[31mTypeError\u001b[39m: UpperString() missing 1 required positional argument: 'word'"
     ]
    }
   ],
   "source": [
    "UpperString()"
   ]
  },
  {
   "cell_type": "code",
   "execution_count": 36,
   "id": "4cd74d0d-2e23-445c-b0ee-31c5d10ea686",
   "metadata": {},
   "outputs": [
    {
     "name": "stdout",
     "output_type": "stream",
     "text": [
      "     *\n",
      "    ***\n",
      "   *****\n",
      "  *******\n",
      " *********\n"
     ]
    }
   ],
   "source": [
    "for i in range(1,6):\n",
    "    print(\" \"*(6-i) + \"*\"*(2*i-1)) "
   ]
  },
  {
   "cell_type": "code",
   "execution_count": 37,
   "id": "698862a7-d55f-481f-9295-316c415860bd",
   "metadata": {},
   "outputs": [
    {
     "name": "stdout",
     "output_type": "stream",
     "text": [
      " *********\n",
      "  *******\n",
      "   *****\n",
      "    ***\n",
      "     *\n"
     ]
    }
   ],
   "source": [
    "for i in range(5,0, -1):\n",
    "    print(\" \"*(6-i) + \"*\"*(2*i-1)) "
   ]
  },
  {
   "cell_type": "code",
   "execution_count": 49,
   "id": "45b32fd0-b272-472f-8890-12cd43c97b44",
   "metadata": {},
   "outputs": [
    {
     "data": {
      "text/plain": [
       "3"
      ]
     },
     "execution_count": 49,
     "metadata": {},
     "output_type": "execute_result"
    }
   ],
   "source": [
    "hab = lambda a,b : a + b\n",
    "hab(1,2)"
   ]
  },
  {
   "cell_type": "code",
   "execution_count": 63,
   "id": "0d207eef-3af7-4ae1-91f1-cae4709d7390",
   "metadata": {},
   "outputs": [
    {
     "name": "stdout",
     "output_type": "stream",
     "text": [
      "[2, 4]\n"
     ]
    }
   ],
   "source": [
    "def test(*args) :\n",
    "    #for n in args:\n",
    "    #    print(n)\n",
    "\n",
    "    #([] for n in args: append(n))\n",
    "    squares = [ i for i in args if i % 2 == 0 ]\n",
    "\n",
    "    print(squares)\n",
    "test(1,2,3,4)\n",
    "\n",
    "\n",
    "\n",
    "\n",
    "\n"
   ]
  },
  {
   "cell_type": "code",
   "execution_count": null,
   "id": "1174ee7f-246d-49fc-bf22-72ca6a3273bf",
   "metadata": {},
   "outputs": [],
   "source": [
    "([] for n in args"
   ]
  },
  {
   "cell_type": "code",
   "execution_count": 68,
   "id": "37622ae4-718c-404b-8c82-8fa93d1fc879",
   "metadata": {},
   "outputs": [
    {
     "data": {
      "text/plain": [
       "[2, 4]"
      ]
     },
     "execution_count": 68,
     "metadata": {},
     "output_type": "execute_result"
    }
   ],
   "source": [
    "(lambda *args : [i for i in args if i % 2 == 0])(1,2,3,4) "
   ]
  },
  {
   "cell_type": "code",
   "execution_count": 102,
   "id": "130e20b1-b91e-4868-8eb4-9d1dff122ce3",
   "metadata": {},
   "outputs": [
    {
     "data": {
      "text/plain": [
       "[1, 2, 3, [4, 5, 6]]"
      ]
     },
     "execution_count": 102,
     "metadata": {},
     "output_type": "execute_result"
    }
   ],
   "source": [
    "a = [1,2,3]\n",
    "b = [4,5,6]\n",
    "a + b"
   ]
  },
  {
   "cell_type": "code",
   "execution_count": 101,
   "id": "47e0563d-1f35-4dfd-9ac7-2a7c37ff497f",
   "metadata": {},
   "outputs": [],
   "source": [
    "#a = 44\n",
    "def test():\n",
    "    #global a\n",
    "    #nonlocal a\n",
    "    a = 2\n",
    "    print(a)"
   ]
  },
  {
   "cell_type": "code",
   "execution_count": 98,
   "id": "ab618297-7bd7-46be-878b-4687cbf4a954",
   "metadata": {},
   "outputs": [
    {
     "name": "stdout",
     "output_type": "stream",
     "text": [
      "2\n"
     ]
    }
   ],
   "source": [
    "test()"
   ]
  },
  {
   "cell_type": "code",
   "execution_count": null,
   "id": "3e95ccfd-6e41-4027-b196-b887847806db",
   "metadata": {},
   "outputs": [],
   "source": []
  },
  {
   "cell_type": "code",
   "execution_count": null,
   "id": "12ab752a-03f0-45f1-9173-f63a5ab47029",
   "metadata": {},
   "outputs": [],
   "source": []
  }
 ],
 "metadata": {
  "kernelspec": {
   "display_name": "Python [conda env:base] *",
   "language": "python",
   "name": "conda-base-py"
  },
  "language_info": {
   "codemirror_mode": {
    "name": "ipython",
    "version": 3
   },
   "file_extension": ".py",
   "mimetype": "text/x-python",
   "name": "python",
   "nbconvert_exporter": "python",
   "pygments_lexer": "ipython3",
   "version": "3.12.7"
  }
 },
 "nbformat": 4,
 "nbformat_minor": 5
}
