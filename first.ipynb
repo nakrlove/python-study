{
 "cells": [
  {
   "cell_type": "markdown",
   "id": "35273628-e1d6-43e5-b4f3-3aeeae08bffa",
   "metadata": {},
   "source": [
    "# 자료형\n",
    "## 숫자형\n",
    "- 정수형 : integer\n",
    "- 실수형(소수) : float 부동소수점: floating point"
   ]
  },
  {
   "cell_type": "markdown",
   "id": "23c1a49e-f603-4dc7-b22d-cb3fe06581f0",
   "metadata": {},
   "source": [
    "a = 10\n",
    "print(a)\n",
    "a = \"TEST\"\n",
    "print(a)"
   ]
  },
  {
   "cell_type": "markdown",
   "id": "f493d39e-5445-4860-aa2a-b8aa0e8f166e",
   "metadata": {},
   "source": [
    "- 변수"
   ]
  },
  {
   "cell_type": "code",
   "execution_count": 14,
   "id": "b0cc3c37-6d11-4a8f-a5e5-32dd3e9f99a1",
   "metadata": {},
   "outputs": [
    {
     "data": {
      "text/plain": [
       "int"
      ]
     },
     "execution_count": 14,
     "metadata": {},
     "output_type": "execute_result"
    }
   ],
   "source": [
    "a = 1\n",
    "type(a)"
   ]
  },
  {
   "cell_type": "code",
   "execution_count": 16,
   "id": "961a817a-e6fc-459b-99e9-f91abc2d66db",
   "metadata": {},
   "outputs": [
    {
     "data": {
      "text/plain": [
       "float"
      ]
     },
     "execution_count": 16,
     "metadata": {},
     "output_type": "execute_result"
    }
   ],
   "source": [
    "b = 2.0\n",
    "type(b)\n",
    "d = a + b\n",
    "type(d)"
   ]
  },
  {
   "cell_type": "code",
   "execution_count": 12,
   "id": "946eb352-666b-4c00-b400-c532add07a93",
   "metadata": {},
   "outputs": [
    {
     "name": "stdout",
     "output_type": "stream",
     "text": [
      "3\n"
     ]
    }
   ],
   "source": [
    "c = a + b\n",
    "\n",
    "print(c)"
   ]
  },
  {
   "cell_type": "code",
   "execution_count": 18,
   "id": "790b5077-40e7-4238-9429-51aaad73ea12",
   "metadata": {},
   "outputs": [
    {
     "name": "stdout",
     "output_type": "stream",
     "text": [
      "0.0\n"
     ]
    }
   ],
   "source": [
    "print( 2 + 2 - 2*2/2*2)"
   ]
  },
  {
   "cell_type": "code",
   "execution_count": 19,
   "id": "501e4f3f-5d1e-4270-af85-7fc4e71a175e",
   "metadata": {},
   "outputs": [
    {
     "data": {
      "text/plain": [
       "3"
      ]
     },
     "execution_count": 19,
     "metadata": {},
     "output_type": "execute_result"
    }
   ],
   "source": [
    "tt = 2\n",
    "+ 3"
   ]
  },
  {
   "cell_type": "code",
   "execution_count": null,
   "id": "71f5aed9-b13a-4216-9654-b15cd85e5171",
   "metadata": {},
   "outputs": [],
   "source": []
  }
 ],
 "metadata": {
  "kernelspec": {
   "display_name": "Python [conda env:base] *",
   "language": "python",
   "name": "conda-base-py"
  },
  "language_info": {
   "codemirror_mode": {
    "name": "ipython",
    "version": 3
   },
   "file_extension": ".py",
   "mimetype": "text/x-python",
   "name": "python",
   "nbconvert_exporter": "python",
   "pygments_lexer": "ipython3",
   "version": "3.12.7"
  }
 },
 "nbformat": 4,
 "nbformat_minor": 5
}
